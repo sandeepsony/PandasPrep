{
 "cells": [
  {
   "cell_type": "code",
   "execution_count": 15,
   "metadata": {},
   "outputs": [
    {
     "name": "stdout",
     "output_type": "stream",
     "text": [
      "Chinook database already exists\n"
     ]
    }
   ],
   "source": [
    "# Run this in a Jupyter notebook in VS Code\n",
    "import urllib.request\n",
    "import os\n",
    "\n",
    "# Download the Chinook database if it doesn't exist\n",
    "if not os.path.exists('chinook.db'):\n",
    "    print(\"Downloading Chinook database...\")\n",
    "    url = \"https://github.com/lerocha/chinook-database/raw/master/ChinookDatabase/DataSources/Chinook_Sqlite.sqlite\"\n",
    "    urllib.request.urlretrieve(url, \"chinook.db\")\n",
    "    print(\"Download complete!\")\n",
    "else:\n",
    "    print(\"Chinook database already exists\")"
   ]
  },
  {
   "cell_type": "code",
   "execution_count": 16,
   "metadata": {},
   "outputs": [
    {
     "name": "stdout",
     "output_type": "stream",
     "text": [
      "Successfully connected to the Chinook database!\n"
     ]
    }
   ],
   "source": [
    "# Connecting to the database\n",
    "import sqlalchemy as sa\n",
    "from sqlalchemy import create_engine\n",
    "import pandas as pd\n",
    "\n",
    "# Connect to the database\n",
    "engine = create_engine('sqlite:///chinook.db')\n",
    "\n",
    "# Test connection\n",
    "try:\n",
    "    with engine.connect() as connection:\n",
    "        print(\"Successfully connected to the Chinook database!\")\n",
    "except Exception as e:\n",
    "    print(f\"Error connecting to the database: {e}\")"
   ]
  },
  {
   "cell_type": "code",
   "execution_count": 17,
   "metadata": {},
   "outputs": [
    {
     "name": "stdout",
     "output_type": "stream",
     "text": [
      "Tables in the Chinook database:\n",
      "             name\n",
      "0           Album\n",
      "1          Artist\n",
      "2        Customer\n",
      "3        Employee\n",
      "4           Genre\n",
      "5         Invoice\n",
      "6     InvoiceLine\n",
      "7       MediaType\n",
      "8        Playlist\n",
      "9   PlaylistTrack\n",
      "10          Track\n"
     ]
    }
   ],
   "source": [
    "# Get list of tables\n",
    "query = \"SELECT name FROM sqlite_master WHERE type='table'\"\n",
    "tables = pd.read_sql(query, engine)\n",
    "print(\"Tables in the Chinook database:\")\n",
    "print(tables)"
   ]
  },
  {
   "cell_type": "code",
   "execution_count": 18,
   "metadata": {},
   "outputs": [
    {
     "name": "stdout",
     "output_type": "stream",
     "text": [
      "\n",
      "Column in Album:\n",
      "       name           type\n",
      "0   AlbumId        INTEGER\n",
      "1     Title  NVARCHAR(160)\n",
      "2  ArtistId        INTEGER\n",
      "\n",
      "Column in Artist:\n",
      "       name           type\n",
      "0  ArtistId        INTEGER\n",
      "1      Name  NVARCHAR(120)\n",
      "\n",
      "Column in Customer:\n",
      "            name          type\n",
      "0     CustomerId       INTEGER\n",
      "1      FirstName  NVARCHAR(40)\n",
      "2       LastName  NVARCHAR(20)\n",
      "3        Company  NVARCHAR(80)\n",
      "4        Address  NVARCHAR(70)\n",
      "5           City  NVARCHAR(40)\n",
      "6          State  NVARCHAR(40)\n",
      "7        Country  NVARCHAR(40)\n",
      "8     PostalCode  NVARCHAR(10)\n",
      "9          Phone  NVARCHAR(24)\n",
      "10           Fax  NVARCHAR(24)\n",
      "11         Email  NVARCHAR(60)\n",
      "12  SupportRepId       INTEGER\n",
      "\n",
      "Column in Employee:\n",
      "          name          type\n",
      "0   EmployeeId       INTEGER\n",
      "1     LastName  NVARCHAR(20)\n",
      "2    FirstName  NVARCHAR(20)\n",
      "3        Title  NVARCHAR(30)\n",
      "4    ReportsTo       INTEGER\n",
      "5    BirthDate      DATETIME\n",
      "6     HireDate      DATETIME\n",
      "7      Address  NVARCHAR(70)\n",
      "8         City  NVARCHAR(40)\n",
      "9        State  NVARCHAR(40)\n",
      "10     Country  NVARCHAR(40)\n",
      "11  PostalCode  NVARCHAR(10)\n",
      "12       Phone  NVARCHAR(24)\n",
      "13         Fax  NVARCHAR(24)\n",
      "14       Email  NVARCHAR(60)\n",
      "\n",
      "Column in Genre:\n",
      "      name           type\n",
      "0  GenreId        INTEGER\n",
      "1     Name  NVARCHAR(120)\n",
      "\n",
      "Column in Invoice:\n",
      "                name           type\n",
      "0          InvoiceId        INTEGER\n",
      "1         CustomerId        INTEGER\n",
      "2        InvoiceDate       DATETIME\n",
      "3     BillingAddress   NVARCHAR(70)\n",
      "4        BillingCity   NVARCHAR(40)\n",
      "5       BillingState   NVARCHAR(40)\n",
      "6     BillingCountry   NVARCHAR(40)\n",
      "7  BillingPostalCode   NVARCHAR(10)\n",
      "8              Total  NUMERIC(10,2)\n",
      "\n",
      "Column in InvoiceLine:\n",
      "            name           type\n",
      "0  InvoiceLineId        INTEGER\n",
      "1      InvoiceId        INTEGER\n",
      "2        TrackId        INTEGER\n",
      "3      UnitPrice  NUMERIC(10,2)\n",
      "4       Quantity        INTEGER\n",
      "\n",
      "Column in MediaType:\n",
      "          name           type\n",
      "0  MediaTypeId        INTEGER\n",
      "1         Name  NVARCHAR(120)\n",
      "\n",
      "Column in Playlist:\n",
      "         name           type\n",
      "0  PlaylistId        INTEGER\n",
      "1        Name  NVARCHAR(120)\n",
      "\n",
      "Column in PlaylistTrack:\n",
      "         name     type\n",
      "0  PlaylistId  INTEGER\n",
      "1     TrackId  INTEGER\n",
      "\n",
      "Column in Track:\n",
      "           name           type\n",
      "0       TrackId        INTEGER\n",
      "1          Name  NVARCHAR(200)\n",
      "2       AlbumId        INTEGER\n",
      "3   MediaTypeId        INTEGER\n",
      "4       GenreId        INTEGER\n",
      "5      Composer  NVARCHAR(220)\n",
      "6  Milliseconds        INTEGER\n",
      "7         Bytes        INTEGER\n",
      "8     UnitPrice  NUMERIC(10,2)\n"
     ]
    }
   ],
   "source": [
    "# Loop through each table and display its structure\n",
    "for table_name in tables['name']:\n",
    "    query = f\"PRAGMA table_info({table_name})\"\n",
    "    columns = pd.read_sql(query, engine)\n",
    "    print(f\"\\nColumn in {table_name}:\")\n",
    "    print(columns[['name', 'type']])\n"
   ]
  },
  {
   "cell_type": "markdown",
   "metadata": {},
   "source": [
    "## Step 3: Basic Queries - Simple Data Extraction\n",
    "Now that we understand the database structure, let's learn how to extract data with basic SQL queries. We'll go line by line through each query and explain what's happening.\n",
    "## Query 1: Getting Tracks with their Album Titles"
   ]
  },
  {
   "cell_type": "code",
   "execution_count": 25,
   "metadata": {},
   "outputs": [
    {
     "name": "stdout",
     "output_type": "stream",
     "text": [
      "albums:\n",
      "   AlbumId                                  Title  ArtistId\n",
      "0        1  For Those About To Rock We Salute You         1\n",
      "1        2                      Balls to the Wall         2\n",
      "2        3                      Restless and Wild         2\n",
      "3        4                      Let There Be Rock         1\n",
      "4        5                               Big Ones         3\n"
     ]
    }
   ],
   "source": [
    "# QUERY 1: A simple query to get all albums\n",
    "\n",
    "query = \"SELECT * FROM album LIMIT 5\"\n",
    "result = pd.read_sql(query, engine)\n",
    "print(\"albums:\")\n",
    "print(result)"
   ]
  },
  {
   "cell_type": "code",
   "execution_count": 26,
   "metadata": {},
   "outputs": [
    {
     "name": "stdout",
     "output_type": "stream",
     "text": [
      "Albums with just ID and Title:\n",
      "   AlbumId                                  Title\n",
      "0        1  For Those About To Rock We Salute You\n",
      "1        2                      Balls to the Wall\n",
      "2        3                      Restless and Wild\n",
      "3        4                      Let There Be Rock\n",
      "4        5                               Big Ones\n"
     ]
    }
   ],
   "source": [
    "# Query 2: Select specific columns\n",
    "\n",
    "query = \"SELECT AlbumId, Title FROM album LIMIT 5\"\n",
    "result = pd.read_sql(query, engine)\n",
    "print(\"Albums with just ID and Title:\")\n",
    "print(result)"
   ]
  },
  {
   "cell_type": "code",
   "execution_count": 27,
   "metadata": {},
   "outputs": [
    {
     "name": "stdout",
     "output_type": "stream",
     "text": [
      "Albums with renamed columns:\n",
      "   ID                              AlbumName\n",
      "0   1  For Those About To Rock We Salute You\n",
      "1   2                      Balls to the Wall\n",
      "2   3                      Restless and Wild\n",
      "3   4                      Let There Be Rock\n",
      "4   5                               Big Ones\n"
     ]
    }
   ],
   "source": [
    "# Query 3: Using Column Aliases\n",
    "\n",
    "query = \"SELECT AlbumId as ID, Title as AlbumName FROM album LIMIT 5\"\n",
    "result = pd.read_sql(query, engine)\n",
    "print(\"Albums with renamed columns:\")\n",
    "print(result)"
   ]
  },
  {
   "cell_type": "code",
   "execution_count": null,
   "metadata": {},
   "outputs": [
    {
     "name": "stdout",
     "output_type": "stream",
     "text": [
      "Albums with AlbumId less than 10:\n",
      "   AlbumId                                  Title\n",
      "0        1  For Those About To Rock We Salute You\n",
      "1        2                      Balls to the Wall\n",
      "2        3                      Restless and Wild\n",
      "3        4                      Let There Be Rock\n",
      "4        5                               Big Ones\n",
      "5        6                     Jagged Little Pill\n",
      "6        7                               Facelift\n",
      "7        8                         Warner 25 Anos\n",
      "8        9         Plays Metallica By Four Cellos\n"
     ]
    }
   ],
   "source": [
    "# ADDING A WHERE CLAUSE FOR FILTERING\n",
    "# Query 4: Filtering with WHERE\n",
    "query = \"SELECT AlbumId, Title FROM album WHERE AlbumId < 10\"\n",
    "result = pd.read_sql(query, engine)\n",
    "print(\"Albums with AlbumId less than 10:\")\n",
    "print(result)"
   ]
  },
  {
   "cell_type": "code",
   "execution_count": 29,
   "metadata": {},
   "outputs": [
    {
     "name": "stdout",
     "output_type": "stream",
     "text": [
      "Albums with Title 'Big Ones':\n",
      "   AlbumId     Title\n",
      "0        5  Big Ones\n"
     ]
    }
   ],
   "source": [
    "# USING TEXT in WHERE CLAUSE\n",
    "# Query 5: Filtering text columns\n",
    "query = \"SELECT AlbumId, Title FROM album WHERE Title = 'Big Ones' \"\n",
    "result = pd.read_sql(query, engine)\n",
    "print(\"Albums with Title 'Big Ones':\")\n",
    "print(result)"
   ]
  },
  {
   "cell_type": "code",
   "execution_count": 30,
   "metadata": {},
   "outputs": [
    {
     "name": "stdout",
     "output_type": "stream",
     "text": [
      "Albums with 'Rock' in the title:\n",
      "   AlbumId                                              Title\n",
      "0        1              For Those About To Rock We Salute You\n",
      "1        4                                  Let There Be Rock\n",
      "2       59                                Deep Purple In Rock\n",
      "3      108                                  Rock In Rio [CD1]\n",
      "4      109                                  Rock In Rio [CD2]\n",
      "5      213  Pure Cult: The Best Of The Cult (For Rockers, ...\n",
      "6      216                      Hot Rocks, 1964-1971 (Disc 1)\n"
     ]
    }
   ],
   "source": [
    "# Query 6: Pattern matching with LIKE\n",
    "query = \"SELECT AlbumId, Title FROM album WHERE Title LIKE '%Rock%'\"\n",
    "result = pd.read_sql(query, engine)\n",
    "print(\"Albums with 'Rock' in the title:\")\n",
    "print(result)"
   ]
  },
  {
   "cell_type": "code",
   "execution_count": 31,
   "metadata": {},
   "outputs": [
    {
     "name": "stdout",
     "output_type": "stream",
     "text": [
      "Albums ordered alphabetically by title:\n",
      "   AlbumId                                              Title\n",
      "0      156                             ...And Justice For All\n",
      "1      257  20th Century Masters - The Millennium Collecti...\n",
      "2      296                      A Copland Celebration, Vol. I\n",
      "3       94                         A Matter of Life and Death\n",
      "4       95                                    A Real Dead One\n",
      "5       96                                    A Real Live One\n",
      "6      285                                 A Soprano Inspired\n",
      "7      139         A TempestadeTempestade Ou O Livro Dos Dias\n",
      "8      203                                            A-Sides\n",
      "9      160                                      Ace Of Spades\n"
     ]
    }
   ],
   "source": [
    "# USING ORDER BY\n",
    "# Query 7: Sorting result using ORDER BY\n",
    "query = \"SELECT AlbumId, Title FROM Album ORDER BY Title LIMIT 10\"\n",
    "result = pd.read_sql(query, engine)\n",
    "print(\"Albums ordered alphabetically by title:\")\n",
    "print(result)"
   ]
  },
  {
   "cell_type": "code",
   "execution_count": 33,
   "metadata": {},
   "outputs": [
    {
     "name": "stdout",
     "output_type": "stream",
     "text": [
      "Albums ordered in Descending order on AlbumID:\n",
      "   AlbumId                                              Title\n",
      "0      347  Koyaanisqatsi (Soundtrack from the Motion Pict...\n",
      "1      346                              Mozart: Chamber Music\n",
      "2      345                                Monteverdi: L'Orfeo\n",
      "3      344  Schubert: The Late String Quartets & String Qu...\n",
      "4      343                             Respighi:Pines of Rome\n",
      "5      342  Locatelli: Concertos for Violin, Strings and C...\n",
      "6      341  Great Recordings of the Century - Shubert: Sch...\n",
      "7      340        Liszt - 12 Études D'Execution Transcendante\n",
      "8      339  Great Recordings of the Century: Paganini's 24...\n",
      "9      338                        Nielsen: The Six Symphonies\n"
     ]
    }
   ],
   "source": [
    "# Query 8: Sorting Descending order (Ascending is default)\n",
    "query = \"SELECT AlbumId, Title FROM album ORDER BY AlbumId DESC LIMIT 10\"\n",
    "result = pd.read_sql(query, engine)\n",
    "print(\"Albums ordered in Descending order on AlbumID:\")\n",
    "print(result)"
   ]
  },
  {
   "cell_type": "code",
   "execution_count": null,
   "metadata": {},
   "outputs": [
    {
     "name": "stdout",
     "output_type": "stream",
     "text": [
      "Filtered and ordered albums:\n",
      "    AlbumId                                              Title\n",
      "0       156                             ...And Justice For All\n",
      "1       257  20th Century Masters - The Millennium Collecti...\n",
      "2       296                      A Copland Celebration, Vol. I\n",
      "3       285                                 A Soprano Inspired\n",
      "4       139         A TempestadeTempestade Ou O Livro Dos Dias\n",
      "5       203                                            A-Sides\n",
      "6       160                                      Ace Of Spades\n",
      "7       232                                       Achtung Baby\n",
      "8       224                                           Acústico\n",
      "9       167                                       Acústico MTV\n",
      "10      307                   Adams, John: The Chairman Dances\n",
      "11      272  Adorate Deum: Gregorian Chant from the Proper ...\n",
      "12      233                    All That You Can't Leave Behind\n",
      "13      273                                  Allegri: Miserere\n",
      "14      248                                   Ao Vivo [IMPORT]\n",
      "15      254                                            Aquaman\n",
      "16      120                               Are You Experienced?\n",
      "17      319  Armada: Music from the Courts of England and S...\n",
      "18      168                                         Arquivo II\n",
      "19      169                    Arquivo Os Paralamas Do Sucesso\n"
     ]
    }
   ],
   "source": [
    "# COMBINING WHERE AND ORDER BY\n",
    "# Query 9: using both WHERE and ORDER BY\n",
    "query = \"\"\"\n",
    "SELECT AlbumId, Title\n",
    "FROM Album\n",
    "WHERE AlbumId > 100\n",
    "ORDER BY Title\n",
    "LIMIT 20\n",
    "\"\"\"\n",
    "\n",
    "result = pd.read_sql(query, engine)\n",
    "print(\"Filtered and ordered albums:\")\n",
    "print(result)"
   ]
  },
  {
   "cell_type": "markdown",
   "metadata": {},
   "source": [
    "## Understanding SQL JOINs\n",
    "JOINs are one of the most powerful features in SQL. They allow you to combine data from multiple tables based on related columns. This is essential for working with relational databases, where information is spread across different tables.\n",
    "### Basic JOIN Syntax\n",
    "Let's start with a simple JOIN between the albums and artists tables:"
   ]
  },
  {
   "cell_type": "code",
   "execution_count": null,
   "metadata": {},
   "outputs": [
    {
     "name": "stdout",
     "output_type": "stream",
     "text": [
      "Albums witht their artists:\n",
      "                                          AlbumTitle            ArtistName\n",
      "0              For Those About To Rock We Salute You                 AC/DC\n",
      "1                                  Balls to the Wall                Accept\n",
      "2                                  Restless and Wild                Accept\n",
      "3                                  Let There Be Rock                 AC/DC\n",
      "4                                           Big Ones             Aerosmith\n",
      "5                                 Jagged Little Pill     Alanis Morissette\n",
      "6                                           Facelift       Alice In Chains\n",
      "7                                     Warner 25 Anos  Antônio Carlos Jobim\n",
      "8                     Plays Metallica By Four Cellos          Apocalyptica\n",
      "9                                         Audioslave            Audioslave\n",
      "10                                      Out Of Exile            Audioslave\n",
      "11                               BackBeat Soundtrack              BackBeat\n",
      "12                          The Best Of Billy Cobham          Billy Cobham\n",
      "13          Alcohol Fueled Brewtality Live! [Disc 1]   Black Label Society\n",
      "14          Alcohol Fueled Brewtality Live! [Disc 2]   Black Label Society\n",
      "15                                     Black Sabbath         Black Sabbath\n",
      "16                   Black Sabbath Vol. 4 (Remaster)         Black Sabbath\n",
      "17                                        Body Count            Body Count\n",
      "18                                  Chemical Wedding       Bruce Dickinson\n",
      "19  The Best Of Buddy Guy - The Millenium Collection             Buddy Guy\n"
     ]
    }
   ],
   "source": [
    "# Query 10: JOINS\n",
    "query = \"\"\"\n",
    "SELECT album.Title as AlbumTitle, artist.Name AS ArtistName\n",
    "FROM album\n",
    "JOIN artist ON album.ArtistId = artist.ArtistId\n",
    "LIMIT 20\n",
    "\"\"\"\n",
    "result = pd.read_sql(query, engine)\n",
    "print(\"Albums witht their artists:\")\n",
    "print(result)"
   ]
  },
  {
   "cell_type": "code",
   "execution_count": 40,
   "metadata": {},
   "outputs": [
    {
     "name": "stdout",
     "output_type": "stream",
     "text": [
      "Albums with their artists name (using aliases)\n",
      "                                          AlbumTitle            ArtistName\n",
      "0              For Those About To Rock We Salute You                 AC/DC\n",
      "1                                  Balls to the Wall                Accept\n",
      "2                                  Restless and Wild                Accept\n",
      "3                                  Let There Be Rock                 AC/DC\n",
      "4                                           Big Ones             Aerosmith\n",
      "5                                 Jagged Little Pill     Alanis Morissette\n",
      "6                                           Facelift       Alice In Chains\n",
      "7                                     Warner 25 Anos  Antônio Carlos Jobim\n",
      "8                     Plays Metallica By Four Cellos          Apocalyptica\n",
      "9                                         Audioslave            Audioslave\n",
      "10                                      Out Of Exile            Audioslave\n",
      "11                               BackBeat Soundtrack              BackBeat\n",
      "12                          The Best Of Billy Cobham          Billy Cobham\n",
      "13          Alcohol Fueled Brewtality Live! [Disc 1]   Black Label Society\n",
      "14          Alcohol Fueled Brewtality Live! [Disc 2]   Black Label Society\n",
      "15                                     Black Sabbath         Black Sabbath\n",
      "16                   Black Sabbath Vol. 4 (Remaster)         Black Sabbath\n",
      "17                                        Body Count            Body Count\n",
      "18                                  Chemical Wedding       Bruce Dickinson\n",
      "19  The Best Of Buddy Guy - The Millenium Collection             Buddy Guy\n"
     ]
    }
   ],
   "source": [
    "# Query 11: Using JOINS as TABLE Aliases\n",
    "query = \"\"\"\n",
    "SELECT a.Title AS AlbumTitle, ar.Name AS ArtistName\n",
    "FROM album a\n",
    "JOIN artist ar ON a.ArtistId = ar.ArtistId\n",
    "LIMIT 20\n",
    "\"\"\"\n",
    "result = pd.read_sql(query, engine)\n",
    "print(\"Albums with their artists name (using aliases)\")\n",
    "print(result)\n"
   ]
  },
  {
   "cell_type": "markdown",
   "metadata": {},
   "source": [
    "### Types of JOINs\n",
    "### There are several types of JOINs in SQL. Let's look at the most common ones:"
   ]
  },
  {
   "cell_type": "code",
   "execution_count": 41,
   "metadata": {},
   "outputs": [
    {
     "name": "stdout",
     "output_type": "stream",
     "text": [
      "Inner Join Example:\n",
      "                                          AlbumTitle            ArtistName\n",
      "0              For Those About To Rock We Salute You                 AC/DC\n",
      "1                                  Balls to the Wall                Accept\n",
      "2                                  Restless and Wild                Accept\n",
      "3                                  Let There Be Rock                 AC/DC\n",
      "4                                           Big Ones             Aerosmith\n",
      "5                                 Jagged Little Pill     Alanis Morissette\n",
      "6                                           Facelift       Alice In Chains\n",
      "7                                     Warner 25 Anos  Antônio Carlos Jobim\n",
      "8                     Plays Metallica By Four Cellos          Apocalyptica\n",
      "9                                         Audioslave            Audioslave\n",
      "10                                      Out Of Exile            Audioslave\n",
      "11                               BackBeat Soundtrack              BackBeat\n",
      "12                          The Best Of Billy Cobham          Billy Cobham\n",
      "13          Alcohol Fueled Brewtality Live! [Disc 1]   Black Label Society\n",
      "14          Alcohol Fueled Brewtality Live! [Disc 2]   Black Label Society\n",
      "15                                     Black Sabbath         Black Sabbath\n",
      "16                   Black Sabbath Vol. 4 (Remaster)         Black Sabbath\n",
      "17                                        Body Count            Body Count\n",
      "18                                  Chemical Wedding       Bruce Dickinson\n",
      "19  The Best Of Buddy Guy - The Millenium Collection             Buddy Guy\n"
     ]
    }
   ],
   "source": [
    "# INNER JOIN (or just JOIN-default)\n",
    "# The default JOIN is an INNER JOIN, which only returns rows where there\n",
    "# is a match in both tables:\n",
    "#Query 11: INNER JOIN example (explicitly stated)\n",
    "query = \"\"\"\n",
    "SELECT a.Title AS AlbumTitle, ar.Name AS ArtistName\n",
    "FROM album a\n",
    "INNER JOIN artist ar ON a.ArtistId = ar.ArtistId\n",
    "LIMIT 20\n",
    "\"\"\"\n",
    "result = pd.read_sql(query, engine)\n",
    "print(\"Inner Join Example:\")\n",
    "print(result)"
   ]
  },
  {
   "cell_type": "code",
   "execution_count": 42,
   "metadata": {},
   "outputs": [
    {
     "name": "stdout",
     "output_type": "stream",
     "text": [
      "LEFT JOIN EXAMPLE\n",
      "                                           ArtistName AlbumTitle\n",
      "0                          Milton Nascimento & Bebeto       None\n",
      "1                                             Azymuth       None\n",
      "2                                       João Gilberto       None\n",
      "3                                      Bebel Gilberto       None\n",
      "4                                       Jorge Vercilo       None\n",
      "5                                       Baby Consuelo       None\n",
      "6                                      Ney Matogrosso       None\n",
      "7                                        Luiz Melodia       None\n",
      "8                                          Nando Reis       None\n",
      "9                               Pedro Luís & A Parede       None\n",
      "10                                    Banda Black Rio       None\n",
      "11                                     Fernanda Porto       None\n",
      "12                                        Os Cariocas       None\n",
      "13                                       A Cor Do Som       None\n",
      "14                                         Kid Abelha       None\n",
      "15                                       Sandra De Sá       None\n",
      "16                                    Hermeto Pascoal       None\n",
      "17                                     Barão Vermelho       None\n",
      "18  Edson, DJ Marky & DJ Patife Featuring Fernanda...       None\n",
      "19                        Santana Feat. Dave Matthews       None\n"
     ]
    }
   ],
   "source": [
    "# LEFT JOIN\n",
    "# A LEFT JOIN returns all rows from the left table and matching rows\n",
    "# from the Right table. If there's no match, NULL values appear for\n",
    "# the right table\n",
    "# Query 12: LEFT JOIN EXAMPLE\n",
    "query = \"\"\"\n",
    "SELECT ar.Name AS ArtistName, a.Title AS AlbumTitle\n",
    "FROM artist ar\n",
    "LEFT JOIN album a ON ar.ArtistId = a.ArtistId\n",
    "ORDER BY a.Title\n",
    "LIMIT 20\n",
    "\"\"\"\n",
    "result = pd.read_sql(query, engine)\n",
    "print(\"LEFT JOIN EXAMPLE\")\n",
    "print(result)"
   ]
  },
  {
   "cell_type": "code",
   "execution_count": null,
   "metadata": {},
   "outputs": [
    {
     "name": "stdout",
     "output_type": "stream",
     "text": [
      "Tracks with ALBUMS and ARTISTS:\n",
      "                                  TrackName  \\\n",
      "0   For Those About To Rock (We Salute You)   \n",
      "1                         Balls to the Wall   \n",
      "2                           Fast As a Shark   \n",
      "3                         Restless and Wild   \n",
      "4                      Princess of the Dawn   \n",
      "5                     Put The Finger On You   \n",
      "6                           Let's Get It Up   \n",
      "7                          Inject The Venom   \n",
      "8                                Snowballed   \n",
      "9                                Evil Walks   \n",
      "10                                   C.O.D.   \n",
      "11                       Breaking The Rules   \n",
      "12                 Night Of The Long Knives   \n",
      "13                               Spellbound   \n",
      "14                                  Go Down   \n",
      "15                              Dog Eat Dog   \n",
      "16                        Let There Be Rock   \n",
      "17                           Bad Boy Boogie   \n",
      "18                            Problem Child   \n",
      "19                                 Overdose   \n",
      "20             Hell Ain't A Bad Place To Be   \n",
      "21                        Whole Lotta Rosie   \n",
      "22                            Walk On Water   \n",
      "23                      Love In An Elevator   \n",
      "24                                 Rag Doll   \n",
      "\n",
      "                               AlbumTitle ArtistName  \n",
      "0   For Those About To Rock We Salute You      AC/DC  \n",
      "1                       Balls to the Wall     Accept  \n",
      "2                       Restless and Wild     Accept  \n",
      "3                       Restless and Wild     Accept  \n",
      "4                       Restless and Wild     Accept  \n",
      "5   For Those About To Rock We Salute You      AC/DC  \n",
      "6   For Those About To Rock We Salute You      AC/DC  \n",
      "7   For Those About To Rock We Salute You      AC/DC  \n",
      "8   For Those About To Rock We Salute You      AC/DC  \n",
      "9   For Those About To Rock We Salute You      AC/DC  \n",
      "10  For Those About To Rock We Salute You      AC/DC  \n",
      "11  For Those About To Rock We Salute You      AC/DC  \n",
      "12  For Those About To Rock We Salute You      AC/DC  \n",
      "13  For Those About To Rock We Salute You      AC/DC  \n",
      "14                      Let There Be Rock      AC/DC  \n",
      "15                      Let There Be Rock      AC/DC  \n",
      "16                      Let There Be Rock      AC/DC  \n",
      "17                      Let There Be Rock      AC/DC  \n",
      "18                      Let There Be Rock      AC/DC  \n",
      "19                      Let There Be Rock      AC/DC  \n",
      "20                      Let There Be Rock      AC/DC  \n",
      "21                      Let There Be Rock      AC/DC  \n",
      "22                               Big Ones  Aerosmith  \n",
      "23                               Big Ones  Aerosmith  \n",
      "24                               Big Ones  Aerosmith  \n"
     ]
    }
   ],
   "source": [
    "# MULTIPLE JOINS\n",
    "# Query 13: Multiple joins\n",
    "query = \"\"\"\n",
    "SELECT t.Name AS TrackName, a.Title AS AlbumTitle, ar.Name AS ArtistName\n",
    "From track t\n",
    "JOIN album a ON t.AlbumId = a.AlbumId\n",
    "JOIN artist ar ON a.ArtistId = ar.ArtistId\n",
    "LIMIT 25\n",
    "\"\"\"\n",
    "result = pd.read_sql(query, engine)\n",
    "print(\"Tracks with ALBUMS and ARTISTS:\")\n",
    "print(result)"
   ]
  },
  {
   "cell_type": "code",
   "execution_count": 45,
   "metadata": {},
   "outputs": [
    {
     "name": "stdout",
     "output_type": "stream",
     "text": [
      "Queen's Tracks:\n",
      "                         TrackName         AlbumTitle ArtistName\n",
      "0                  A Kind Of Magic   Greatest Hits II      Queen\n",
      "1                   Under Pressure   Greatest Hits II      Queen\n",
      "2                      Radio GA GA   Greatest Hits II      Queen\n",
      "3                    I Want It All   Greatest Hits II      Queen\n",
      "4             I Want To Break Free   Greatest Hits II      Queen\n",
      "5                         Innuendo   Greatest Hits II      Queen\n",
      "6                 It's A Hard Life   Greatest Hits II      Queen\n",
      "7                        Breakthru   Greatest Hits II      Queen\n",
      "8        Who Wants To Live Forever   Greatest Hits II      Queen\n",
      "9                         Headlong   Greatest Hits II      Queen\n",
      "10                     The Miracle   Greatest Hits II      Queen\n",
      "11          I'm Going Slightly Mad   Greatest Hits II      Queen\n",
      "12               The Invisible Man   Greatest Hits II      Queen\n",
      "13                  Hammer To Fall   Greatest Hits II      Queen\n",
      "14         Friends Will Be Friends   Greatest Hits II      Queen\n",
      "15             The Show Must Go On   Greatest Hits II      Queen\n",
      "16                      One Vision   Greatest Hits II      Queen\n",
      "17               Bohemian Rhapsody    Greatest Hits I      Queen\n",
      "18      Another One Bites The Dust    Greatest Hits I      Queen\n",
      "19                    Killer Queen    Greatest Hits I      Queen\n",
      "20              Fat Bottomed Girls    Greatest Hits I      Queen\n",
      "21                    Bicycle Race    Greatest Hits I      Queen\n",
      "22           You're My Best Friend    Greatest Hits I      Queen\n",
      "23               Don't Stop Me Now    Greatest Hits I      Queen\n",
      "24                         Save Me    Greatest Hits I      Queen\n",
      "25  Crazy Little Thing Called Love    Greatest Hits I      Queen\n",
      "26                Somebody To Love    Greatest Hits I      Queen\n",
      "27                    Now I'm Here    Greatest Hits I      Queen\n",
      "28    Good Old-Fashioned Lover Boy    Greatest Hits I      Queen\n",
      "29                   Play The Game    Greatest Hits I      Queen\n",
      "30                           Flash    Greatest Hits I      Queen\n",
      "31              Seven Seas Of Rhye    Greatest Hits I      Queen\n",
      "32                We Will Rock You    Greatest Hits I      Queen\n",
      "33            We Are The Champions    Greatest Hits I      Queen\n",
      "34                We Will Rock You  News Of The World      Queen\n",
      "35            We Are The Champions  News Of The World      Queen\n",
      "36              Sheer Heart Attack  News Of The World      Queen\n",
      "37              All Dead, All Dead  News Of The World      Queen\n",
      "38               Spread Your Wings  News Of The World      Queen\n",
      "39           Fight From The Inside  News Of The World      Queen\n",
      "40             Get Down, Make Love  News Of The World      Queen\n",
      "41           Sleep On The Sidewalk  News Of The World      Queen\n",
      "42                   Who Needs You  News Of The World      Queen\n",
      "43                       It's Late  News Of The World      Queen\n",
      "44             My Melancholy Blues  News Of The World      Queen\n"
     ]
    }
   ],
   "source": [
    "# JOINS with WHERE clause\n",
    "# Query 14: JOINS with WHERE\n",
    "query = \"\"\"\n",
    "SELECT t.Name AS TrackName, a.Title AS AlbumTitle, ar.Name AS ArtistName\n",
    "From track t\n",
    "JOIN album a ON t.AlbumId = a.AlbumId\n",
    "JOIN artist ar ON a.ArtistId = ar.ArtistId\n",
    "WHERE ar.Name = 'Queen' \n",
    "\"\"\"\n",
    "result = pd.read_sql(query,engine)\n",
    "print(\"Queen's Tracks:\")\n",
    "print(result)"
   ]
  },
  {
   "cell_type": "markdown",
   "metadata": {},
   "source": [
    "### Practice Excercise"
   ]
  },
  {
   "cell_type": "code",
   "execution_count": 49,
   "metadata": {},
   "outputs": [
    {
     "name": "stdout",
     "output_type": "stream",
     "text": [
      "US Customers with invoice over $5:\n",
      "   FirstName    LastName          InvoiceDate  Total\n",
      "0    Richard  Cunningham  2012-08-05 00:00:00  23.86\n",
      "1     Victor     Stevens  2011-05-29 00:00:00  18.86\n",
      "2      Frank     Ralston  2010-03-21 00:00:00  15.86\n",
      "3      Frank      Harris  2010-09-23 00:00:00  13.86\n",
      "4       Jack       Smith  2011-12-01 00:00:00  13.86\n",
      "5   Michelle      Brooks  2013-02-07 00:00:00  13.86\n",
      "6        Tim       Goyer  2009-04-14 00:00:00  13.86\n",
      "7        Dan      Miller  2010-06-22 00:00:00  13.86\n",
      "8      Kathy       Chase  2011-08-30 00:00:00  13.86\n",
      "9    Heather     Leacock  2012-11-06 00:00:00  13.86\n",
      "10      John      Gordon  2009-01-11 00:00:00  13.86\n",
      "11   Patrick        Gray  2013-10-13 00:00:00  13.86\n",
      "12     Julia     Barnett  2009-12-18 00:00:00  13.86\n",
      "13     Julia     Barnett  2012-09-28 00:00:00  11.94\n",
      "14      Jack       Smith  2012-07-31 00:00:00  10.91\n",
      "15     Frank      Harris  2011-05-24 00:00:00   8.91\n",
      "16  Michelle      Brooks  2013-10-08 00:00:00   8.91\n",
      "17       Tim       Goyer  2009-12-13 00:00:00   8.91\n",
      "18       Dan      Miller  2011-02-20 00:00:00   8.91\n",
      "19     Kathy       Chase  2012-04-29 00:00:00   8.91\n",
      "20   Heather     Leacock  2013-07-07 00:00:00   8.91\n",
      "21      John      Gordon  2009-09-11 00:00:00   8.91\n",
      "22     Frank     Ralston  2010-11-19 00:00:00   8.91\n",
      "23    Victor     Stevens  2012-01-27 00:00:00   8.91\n",
      "24   Richard  Cunningham  2013-04-05 00:00:00   8.91\n"
     ]
    }
   ],
   "source": [
    "# Query 15: US customers with > $5 invoice\n",
    "query = \"\"\"\n",
    "SELECT c.FirstName, c.LastName, i.InvoiceDate, i.Total\n",
    "FROM customer c\n",
    "JOIN invoice i ON c.CustomerId = i.CustomerId\n",
    "WHERE c.Country = 'USA' AND i.Total > 5.00\n",
    "ORDER BY i.Total DESC\n",
    "LIMIT 25\n",
    "\"\"\"\n",
    "result = pd.read_sql(query, engine)\n",
    "print(\"US Customers with invoice over $5:\")\n",
    "print(result)"
   ]
  },
  {
   "cell_type": "markdown",
   "metadata": {},
   "source": [
    "## Aggregation and Grouping in SQL\n",
    "### Aggregation functions let you perform calculations across rows, and the GROUP BY clause lets you organize data into groups for analysis."
   ]
  },
  {
   "cell_type": "code",
   "execution_count": null,
   "metadata": {},
   "outputs": [
    {
     "name": "stdout",
     "output_type": "stream",
     "text": [
      "Track Stats:\n",
      "   TotalTracks  MinPrice  MaxPrice  AvgPrice  TotalPrice\n",
      "0         3503      0.99      1.99  1.050805     3680.97\n"
     ]
    }
   ],
   "source": [
    "# Query 16: Basic Aggregation\n",
    "query = \"\"\"\n",
    "SELECT COUNT(*) AS TotalTracks,\n",
    "        MIN(UnitPrice) AS MinPrice,\n",
    "        MAX(UnitPrice) AS MaxPrice,\n",
    "        AVG(UnitPrice) AS AvgPrice,\n",
    "        SUM(UnitPrice) AS TotalPrice\n",
    "FROM track\n",
    "\"\"\"\n",
    "result = pd.read_sql(query, engine)\n",
    "print(\"Track Stats:\")\n",
    "print(result)"
   ]
  },
  {
   "cell_type": "code",
   "execution_count": null,
   "metadata": {},
   "outputs": [
    {
     "name": "stdout",
     "output_type": "stream",
     "text": [
      "Stats by media type:\n",
      "   MediaTypeId  TrackCount  AvgPrice\n",
      "0            1        3034  0.990000\n",
      "1            2         237  0.990000\n",
      "2            3         214  1.985327\n",
      "3            4           7  0.990000\n",
      "4            5          11  0.990000\n"
     ]
    }
   ],
   "source": [
    "# Query 17: Using GROUP BY\n",
    "\n",
    "query = \"\"\"\n",
    "SELECT MediaTypeId,\n",
    "        COUNT(*) AS TrackCount,\n",
    "        AVG(UnitPrice) AS AvgPrice\n",
    "FROM track\n",
    "GROUP BY MediaTypeId\n",
    "\"\"\"\n",
    "result = pd.read_sql(query, engine)\n",
    "print(\"Stats by media type:\")\n",
    "print(result)"
   ]
  },
  {
   "cell_type": "markdown",
   "metadata": {},
   "source": [
    "### Adding cotext with JOINS and GROUP BY"
   ]
  },
  {
   "cell_type": "code",
   "execution_count": 54,
   "metadata": {},
   "outputs": [
    {
     "name": "stdout",
     "output_type": "stream",
     "text": [
      "Stats by media type with names:\n",
      "                     MediaType  TrackCount  AvgPrice\n",
      "0              MPEG audio file        3034  0.990000\n",
      "1     Protected AAC audio file         237  0.990000\n",
      "2  Protected MPEG-4 video file         214  1.985327\n",
      "3               AAC audio file          11  0.990000\n",
      "4     Purchased AAC audio file           7  0.990000\n"
     ]
    }
   ],
   "source": [
    "# Query 18: GROUP BY with JOIN\n",
    "query = \"\"\"\n",
    "SELECT mt.Name AS MediaType,\n",
    "        COUNT(*) AS TrackCount,\n",
    "        AVG(t.UnitPrice) AS AvgPrice\n",
    "FROM track t\n",
    "JOIN mediatype mt ON t.MediaTypeId = mt.MediaTypeId\n",
    "GROUP BY mt.Name\n",
    "ORDER BY TrackCount DESC\n",
    "\"\"\"\n",
    "result = pd.read_sql(query, engine)\n",
    "print(\"Stats by media type with names:\")\n",
    "print(result)"
   ]
  }
 ],
 "metadata": {
  "kernelspec": {
   "display_name": ".venv",
   "language": "python",
   "name": "python3"
  },
  "language_info": {
   "codemirror_mode": {
    "name": "ipython",
    "version": 3
   },
   "file_extension": ".py",
   "mimetype": "text/x-python",
   "name": "python",
   "nbconvert_exporter": "python",
   "pygments_lexer": "ipython3",
   "version": "3.9.21"
  }
 },
 "nbformat": 4,
 "nbformat_minor": 2
}
