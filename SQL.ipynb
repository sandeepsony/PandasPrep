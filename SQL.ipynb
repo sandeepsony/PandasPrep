{
 "cells": [
  {
   "cell_type": "code",
   "execution_count": 4,
   "metadata": {},
   "outputs": [
    {
     "name": "stdout",
     "output_type": "stream",
     "text": [
      "Downloading Chinook database...\n",
      "Download complete!\n"
     ]
    }
   ],
   "source": [
    "# Run this in a Jupyter notebook in VS Code\n",
    "import urllib.request\n",
    "import os\n",
    "\n",
    "# Download the Chinook database if it doesn't exist\n",
    "if not os.path.exists('chinook.db'):\n",
    "    print(\"Downloading Chinook database...\")\n",
    "    url = \"https://github.com/lerocha/chinook-database/raw/master/ChinookDatabase/DataSources/Chinook_Sqlite.sqlite\"\n",
    "    urllib.request.urlretrieve(url, \"chinook.db\")\n",
    "    print(\"Download complete!\")\n",
    "else:\n",
    "    print(\"Chinook database already exists\")"
   ]
  },
  {
   "cell_type": "code",
   "execution_count": 5,
   "metadata": {},
   "outputs": [
    {
     "name": "stdout",
     "output_type": "stream",
     "text": [
      "Successfully connected to the Chinook database!\n"
     ]
    }
   ],
   "source": [
    "# Connecting to the database\n",
    "import sqlalchemy as sa\n",
    "from sqlalchemy import create_engine\n",
    "import pandas as pd\n",
    "\n",
    "# Connect to the database\n",
    "engine = create_engine('sqlite:///chinook.db')\n",
    "\n",
    "# Test connection\n",
    "try:\n",
    "    with engine.connect() as connection:\n",
    "        print(\"Successfully connected to the Chinook database!\")\n",
    "except Exception as e:\n",
    "    print(f\"Error connecting to the database: {e}\")"
   ]
  },
  {
   "cell_type": "code",
   "execution_count": 6,
   "metadata": {},
   "outputs": [
    {
     "name": "stdout",
     "output_type": "stream",
     "text": [
      "Tables in the Chinook database:\n",
      "             name\n",
      "0           Album\n",
      "1          Artist\n",
      "2        Customer\n",
      "3        Employee\n",
      "4           Genre\n",
      "5         Invoice\n",
      "6     InvoiceLine\n",
      "7       MediaType\n",
      "8        Playlist\n",
      "9   PlaylistTrack\n",
      "10          Track\n"
     ]
    }
   ],
   "source": [
    "# Get list of tables\n",
    "query = \"SELECT name FROM sqlite_master WHERE type='table'\"\n",
    "tables = pd.read_sql(query, engine)\n",
    "print(\"Tables in the Chinook database:\")\n",
    "print(tables)"
   ]
  },
  {
   "cell_type": "code",
   "execution_count": 11,
   "metadata": {},
   "outputs": [
    {
     "name": "stdout",
     "output_type": "stream",
     "text": [
      "\n",
      "Column in Album:\n",
      "       name           type\n",
      "0   AlbumId        INTEGER\n",
      "1     Title  NVARCHAR(160)\n",
      "2  ArtistId        INTEGER\n",
      "\n",
      "Column in Artist:\n",
      "       name           type\n",
      "0  ArtistId        INTEGER\n",
      "1      Name  NVARCHAR(120)\n",
      "\n",
      "Column in Customer:\n",
      "            name          type\n",
      "0     CustomerId       INTEGER\n",
      "1      FirstName  NVARCHAR(40)\n",
      "2       LastName  NVARCHAR(20)\n",
      "3        Company  NVARCHAR(80)\n",
      "4        Address  NVARCHAR(70)\n",
      "5           City  NVARCHAR(40)\n",
      "6          State  NVARCHAR(40)\n",
      "7        Country  NVARCHAR(40)\n",
      "8     PostalCode  NVARCHAR(10)\n",
      "9          Phone  NVARCHAR(24)\n",
      "10           Fax  NVARCHAR(24)\n",
      "11         Email  NVARCHAR(60)\n",
      "12  SupportRepId       INTEGER\n",
      "\n",
      "Column in Employee:\n",
      "          name          type\n",
      "0   EmployeeId       INTEGER\n",
      "1     LastName  NVARCHAR(20)\n",
      "2    FirstName  NVARCHAR(20)\n",
      "3        Title  NVARCHAR(30)\n",
      "4    ReportsTo       INTEGER\n",
      "5    BirthDate      DATETIME\n",
      "6     HireDate      DATETIME\n",
      "7      Address  NVARCHAR(70)\n",
      "8         City  NVARCHAR(40)\n",
      "9        State  NVARCHAR(40)\n",
      "10     Country  NVARCHAR(40)\n",
      "11  PostalCode  NVARCHAR(10)\n",
      "12       Phone  NVARCHAR(24)\n",
      "13         Fax  NVARCHAR(24)\n",
      "14       Email  NVARCHAR(60)\n",
      "\n",
      "Column in Genre:\n",
      "      name           type\n",
      "0  GenreId        INTEGER\n",
      "1     Name  NVARCHAR(120)\n",
      "\n",
      "Column in Invoice:\n",
      "                name           type\n",
      "0          InvoiceId        INTEGER\n",
      "1         CustomerId        INTEGER\n",
      "2        InvoiceDate       DATETIME\n",
      "3     BillingAddress   NVARCHAR(70)\n",
      "4        BillingCity   NVARCHAR(40)\n",
      "5       BillingState   NVARCHAR(40)\n",
      "6     BillingCountry   NVARCHAR(40)\n",
      "7  BillingPostalCode   NVARCHAR(10)\n",
      "8              Total  NUMERIC(10,2)\n",
      "\n",
      "Column in InvoiceLine:\n",
      "            name           type\n",
      "0  InvoiceLineId        INTEGER\n",
      "1      InvoiceId        INTEGER\n",
      "2        TrackId        INTEGER\n",
      "3      UnitPrice  NUMERIC(10,2)\n",
      "4       Quantity        INTEGER\n",
      "\n",
      "Column in MediaType:\n",
      "          name           type\n",
      "0  MediaTypeId        INTEGER\n",
      "1         Name  NVARCHAR(120)\n",
      "\n",
      "Column in Playlist:\n",
      "         name           type\n",
      "0  PlaylistId        INTEGER\n",
      "1        Name  NVARCHAR(120)\n",
      "\n",
      "Column in PlaylistTrack:\n",
      "         name     type\n",
      "0  PlaylistId  INTEGER\n",
      "1     TrackId  INTEGER\n",
      "\n",
      "Column in Track:\n",
      "           name           type\n",
      "0       TrackId        INTEGER\n",
      "1          Name  NVARCHAR(200)\n",
      "2       AlbumId        INTEGER\n",
      "3   MediaTypeId        INTEGER\n",
      "4       GenreId        INTEGER\n",
      "5      Composer  NVARCHAR(220)\n",
      "6  Milliseconds        INTEGER\n",
      "7         Bytes        INTEGER\n",
      "8     UnitPrice  NUMERIC(10,2)\n"
     ]
    }
   ],
   "source": [
    "# Loop through each table and display its structure\n",
    "for table_name in tables['name']:\n",
    "    query = f\"PRAGMA table_info({table_name})\"\n",
    "    columns = pd.read_sql(query, engine)\n",
    "    print(f\"\\nColumn in {table_name}:\")\n",
    "    print(columns[['name', 'type']])\n"
   ]
  }
 ],
 "metadata": {
  "kernelspec": {
   "display_name": ".venv",
   "language": "python",
   "name": "python3"
  },
  "language_info": {
   "codemirror_mode": {
    "name": "ipython",
    "version": 3
   },
   "file_extension": ".py",
   "mimetype": "text/x-python",
   "name": "python",
   "nbconvert_exporter": "python",
   "pygments_lexer": "ipython3",
   "version": "3.9.21"
  }
 },
 "nbformat": 4,
 "nbformat_minor": 2
}
