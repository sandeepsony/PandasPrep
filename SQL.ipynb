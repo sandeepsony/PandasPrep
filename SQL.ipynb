{
 "cells": [
  {
   "cell_type": "code",
   "execution_count": 15,
   "metadata": {},
   "outputs": [
    {
     "name": "stdout",
     "output_type": "stream",
     "text": [
      "Chinook database already exists\n"
     ]
    }
   ],
   "source": [
    "# Run this in a Jupyter notebook in VS Code\n",
    "import urllib.request\n",
    "import os\n",
    "\n",
    "# Download the Chinook database if it doesn't exist\n",
    "if not os.path.exists('chinook.db'):\n",
    "    print(\"Downloading Chinook database...\")\n",
    "    url = \"https://github.com/lerocha/chinook-database/raw/master/ChinookDatabase/DataSources/Chinook_Sqlite.sqlite\"\n",
    "    urllib.request.urlretrieve(url, \"chinook.db\")\n",
    "    print(\"Download complete!\")\n",
    "else:\n",
    "    print(\"Chinook database already exists\")"
   ]
  },
  {
   "cell_type": "code",
   "execution_count": 16,
   "metadata": {},
   "outputs": [
    {
     "name": "stdout",
     "output_type": "stream",
     "text": [
      "Successfully connected to the Chinook database!\n"
     ]
    }
   ],
   "source": [
    "# Connecting to the database\n",
    "import sqlalchemy as sa\n",
    "from sqlalchemy import create_engine\n",
    "import pandas as pd\n",
    "\n",
    "# Connect to the database\n",
    "engine = create_engine('sqlite:///chinook.db')\n",
    "\n",
    "# Test connection\n",
    "try:\n",
    "    with engine.connect() as connection:\n",
    "        print(\"Successfully connected to the Chinook database!\")\n",
    "except Exception as e:\n",
    "    print(f\"Error connecting to the database: {e}\")"
   ]
  },
  {
   "cell_type": "code",
   "execution_count": 17,
   "metadata": {},
   "outputs": [
    {
     "name": "stdout",
     "output_type": "stream",
     "text": [
      "Tables in the Chinook database:\n",
      "             name\n",
      "0           Album\n",
      "1          Artist\n",
      "2        Customer\n",
      "3        Employee\n",
      "4           Genre\n",
      "5         Invoice\n",
      "6     InvoiceLine\n",
      "7       MediaType\n",
      "8        Playlist\n",
      "9   PlaylistTrack\n",
      "10          Track\n"
     ]
    }
   ],
   "source": [
    "# Get list of tables\n",
    "query = \"SELECT name FROM sqlite_master WHERE type='table'\"\n",
    "tables = pd.read_sql(query, engine)\n",
    "print(\"Tables in the Chinook database:\")\n",
    "print(tables)"
   ]
  },
  {
   "cell_type": "code",
   "execution_count": 18,
   "metadata": {},
   "outputs": [
    {
     "name": "stdout",
     "output_type": "stream",
     "text": [
      "\n",
      "Column in Album:\n",
      "       name           type\n",
      "0   AlbumId        INTEGER\n",
      "1     Title  NVARCHAR(160)\n",
      "2  ArtistId        INTEGER\n",
      "\n",
      "Column in Artist:\n",
      "       name           type\n",
      "0  ArtistId        INTEGER\n",
      "1      Name  NVARCHAR(120)\n",
      "\n",
      "Column in Customer:\n",
      "            name          type\n",
      "0     CustomerId       INTEGER\n",
      "1      FirstName  NVARCHAR(40)\n",
      "2       LastName  NVARCHAR(20)\n",
      "3        Company  NVARCHAR(80)\n",
      "4        Address  NVARCHAR(70)\n",
      "5           City  NVARCHAR(40)\n",
      "6          State  NVARCHAR(40)\n",
      "7        Country  NVARCHAR(40)\n",
      "8     PostalCode  NVARCHAR(10)\n",
      "9          Phone  NVARCHAR(24)\n",
      "10           Fax  NVARCHAR(24)\n",
      "11         Email  NVARCHAR(60)\n",
      "12  SupportRepId       INTEGER\n",
      "\n",
      "Column in Employee:\n",
      "          name          type\n",
      "0   EmployeeId       INTEGER\n",
      "1     LastName  NVARCHAR(20)\n",
      "2    FirstName  NVARCHAR(20)\n",
      "3        Title  NVARCHAR(30)\n",
      "4    ReportsTo       INTEGER\n",
      "5    BirthDate      DATETIME\n",
      "6     HireDate      DATETIME\n",
      "7      Address  NVARCHAR(70)\n",
      "8         City  NVARCHAR(40)\n",
      "9        State  NVARCHAR(40)\n",
      "10     Country  NVARCHAR(40)\n",
      "11  PostalCode  NVARCHAR(10)\n",
      "12       Phone  NVARCHAR(24)\n",
      "13         Fax  NVARCHAR(24)\n",
      "14       Email  NVARCHAR(60)\n",
      "\n",
      "Column in Genre:\n",
      "      name           type\n",
      "0  GenreId        INTEGER\n",
      "1     Name  NVARCHAR(120)\n",
      "\n",
      "Column in Invoice:\n",
      "                name           type\n",
      "0          InvoiceId        INTEGER\n",
      "1         CustomerId        INTEGER\n",
      "2        InvoiceDate       DATETIME\n",
      "3     BillingAddress   NVARCHAR(70)\n",
      "4        BillingCity   NVARCHAR(40)\n",
      "5       BillingState   NVARCHAR(40)\n",
      "6     BillingCountry   NVARCHAR(40)\n",
      "7  BillingPostalCode   NVARCHAR(10)\n",
      "8              Total  NUMERIC(10,2)\n",
      "\n",
      "Column in InvoiceLine:\n",
      "            name           type\n",
      "0  InvoiceLineId        INTEGER\n",
      "1      InvoiceId        INTEGER\n",
      "2        TrackId        INTEGER\n",
      "3      UnitPrice  NUMERIC(10,2)\n",
      "4       Quantity        INTEGER\n",
      "\n",
      "Column in MediaType:\n",
      "          name           type\n",
      "0  MediaTypeId        INTEGER\n",
      "1         Name  NVARCHAR(120)\n",
      "\n",
      "Column in Playlist:\n",
      "         name           type\n",
      "0  PlaylistId        INTEGER\n",
      "1        Name  NVARCHAR(120)\n",
      "\n",
      "Column in PlaylistTrack:\n",
      "         name     type\n",
      "0  PlaylistId  INTEGER\n",
      "1     TrackId  INTEGER\n",
      "\n",
      "Column in Track:\n",
      "           name           type\n",
      "0       TrackId        INTEGER\n",
      "1          Name  NVARCHAR(200)\n",
      "2       AlbumId        INTEGER\n",
      "3   MediaTypeId        INTEGER\n",
      "4       GenreId        INTEGER\n",
      "5      Composer  NVARCHAR(220)\n",
      "6  Milliseconds        INTEGER\n",
      "7         Bytes        INTEGER\n",
      "8     UnitPrice  NUMERIC(10,2)\n"
     ]
    }
   ],
   "source": [
    "# Loop through each table and display its structure\n",
    "for table_name in tables['name']:\n",
    "    query = f\"PRAGMA table_info({table_name})\"\n",
    "    columns = pd.read_sql(query, engine)\n",
    "    print(f\"\\nColumn in {table_name}:\")\n",
    "    print(columns[['name', 'type']])\n"
   ]
  },
  {
   "cell_type": "markdown",
   "metadata": {},
   "source": [
    "## Step 3: Basic Queries - Simple Data Extraction\n",
    "Now that we understand the database structure, let's learn how to extract data with basic SQL queries. We'll go line by line through each query and explain what's happening.\n",
    "## Query 1: Getting Tracks with their Album Titles"
   ]
  },
  {
   "cell_type": "code",
   "execution_count": 25,
   "metadata": {},
   "outputs": [
    {
     "name": "stdout",
     "output_type": "stream",
     "text": [
      "albums:\n",
      "   AlbumId                                  Title  ArtistId\n",
      "0        1  For Those About To Rock We Salute You         1\n",
      "1        2                      Balls to the Wall         2\n",
      "2        3                      Restless and Wild         2\n",
      "3        4                      Let There Be Rock         1\n",
      "4        5                               Big Ones         3\n"
     ]
    }
   ],
   "source": [
    "# QUERY 1: A simple query to get all albums\n",
    "\n",
    "query = \"SELECT * FROM album LIMIT 5\"\n",
    "result = pd.read_sql(query, engine)\n",
    "print(\"albums:\")\n",
    "print(result)"
   ]
  },
  {
   "cell_type": "code",
   "execution_count": 26,
   "metadata": {},
   "outputs": [
    {
     "name": "stdout",
     "output_type": "stream",
     "text": [
      "Albums with just ID and Title:\n",
      "   AlbumId                                  Title\n",
      "0        1  For Those About To Rock We Salute You\n",
      "1        2                      Balls to the Wall\n",
      "2        3                      Restless and Wild\n",
      "3        4                      Let There Be Rock\n",
      "4        5                               Big Ones\n"
     ]
    }
   ],
   "source": [
    "# Query 2: Select specific columns\n",
    "\n",
    "query = \"SELECT AlbumId, Title FROM album LIMIT 5\"\n",
    "result = pd.read_sql(query, engine)\n",
    "print(\"Albums with just ID and Title:\")\n",
    "print(result)"
   ]
  },
  {
   "cell_type": "code",
   "execution_count": 27,
   "metadata": {},
   "outputs": [
    {
     "name": "stdout",
     "output_type": "stream",
     "text": [
      "Albums with renamed columns:\n",
      "   ID                              AlbumName\n",
      "0   1  For Those About To Rock We Salute You\n",
      "1   2                      Balls to the Wall\n",
      "2   3                      Restless and Wild\n",
      "3   4                      Let There Be Rock\n",
      "4   5                               Big Ones\n"
     ]
    }
   ],
   "source": [
    "# Query 3: Using Column Aliases\n",
    "\n",
    "query = \"SELECT AlbumId as ID, Title as AlbumName FROM album LIMIT 5\"\n",
    "result = pd.read_sql(query, engine)\n",
    "print(\"Albums with renamed columns:\")\n",
    "print(result)"
   ]
  },
  {
   "cell_type": "code",
   "execution_count": null,
   "metadata": {},
   "outputs": [
    {
     "name": "stdout",
     "output_type": "stream",
     "text": [
      "Albums with AlbumId less than 10:\n",
      "   AlbumId                                  Title\n",
      "0        1  For Those About To Rock We Salute You\n",
      "1        2                      Balls to the Wall\n",
      "2        3                      Restless and Wild\n",
      "3        4                      Let There Be Rock\n",
      "4        5                               Big Ones\n",
      "5        6                     Jagged Little Pill\n",
      "6        7                               Facelift\n",
      "7        8                         Warner 25 Anos\n",
      "8        9         Plays Metallica By Four Cellos\n"
     ]
    }
   ],
   "source": [
    "# ADDING A WHERE CLAUSE FOR FILTERING\n",
    "# Query 4: Filtering with WHERE\n",
    "query = \"SELECT AlbumId, Title FROM album WHERE AlbumId < 10\"\n",
    "result = pd.read_sql(query, engine)\n",
    "print(\"Albums with AlbumId less than 10:\")\n",
    "print(result)"
   ]
  },
  {
   "cell_type": "code",
   "execution_count": 29,
   "metadata": {},
   "outputs": [
    {
     "name": "stdout",
     "output_type": "stream",
     "text": [
      "Albums with Title 'Big Ones':\n",
      "   AlbumId     Title\n",
      "0        5  Big Ones\n"
     ]
    }
   ],
   "source": [
    "# USING TEXT in WHERE CLAUSE\n",
    "# Query 5: Filtering text columns\n",
    "query = \"SELECT AlbumId, Title FROM album WHERE Title = 'Big Ones' \"\n",
    "result = pd.read_sql(query, engine)\n",
    "print(\"Albums with Title 'Big Ones':\")\n",
    "print(result)"
   ]
  },
  {
   "cell_type": "code",
   "execution_count": 30,
   "metadata": {},
   "outputs": [
    {
     "name": "stdout",
     "output_type": "stream",
     "text": [
      "Albums with 'Rock' in the title:\n",
      "   AlbumId                                              Title\n",
      "0        1              For Those About To Rock We Salute You\n",
      "1        4                                  Let There Be Rock\n",
      "2       59                                Deep Purple In Rock\n",
      "3      108                                  Rock In Rio [CD1]\n",
      "4      109                                  Rock In Rio [CD2]\n",
      "5      213  Pure Cult: The Best Of The Cult (For Rockers, ...\n",
      "6      216                      Hot Rocks, 1964-1971 (Disc 1)\n"
     ]
    }
   ],
   "source": [
    "# Query 6: Pattern matching with LIKE\n",
    "query = \"SELECT AlbumId, Title FROM album WHERE Title LIKE '%Rock%'\"\n",
    "result = pd.read_sql(query, engine)\n",
    "print(\"Albums with 'Rock' in the title:\")\n",
    "print(result)"
   ]
  },
  {
   "cell_type": "code",
   "execution_count": 31,
   "metadata": {},
   "outputs": [
    {
     "name": "stdout",
     "output_type": "stream",
     "text": [
      "Albums ordered alphabetically by title:\n",
      "   AlbumId                                              Title\n",
      "0      156                             ...And Justice For All\n",
      "1      257  20th Century Masters - The Millennium Collecti...\n",
      "2      296                      A Copland Celebration, Vol. I\n",
      "3       94                         A Matter of Life and Death\n",
      "4       95                                    A Real Dead One\n",
      "5       96                                    A Real Live One\n",
      "6      285                                 A Soprano Inspired\n",
      "7      139         A TempestadeTempestade Ou O Livro Dos Dias\n",
      "8      203                                            A-Sides\n",
      "9      160                                      Ace Of Spades\n"
     ]
    }
   ],
   "source": [
    "# USING ORDER BY\n",
    "# Query 7: Sorting result using ORDER BY\n",
    "query = \"SELECT AlbumId, Title FROM Album ORDER BY Title LIMIT 10\"\n",
    "result = pd.read_sql(query, engine)\n",
    "print(\"Albums ordered alphabetically by title:\")\n",
    "print(result)"
   ]
  },
  {
   "cell_type": "code",
   "execution_count": 33,
   "metadata": {},
   "outputs": [
    {
     "name": "stdout",
     "output_type": "stream",
     "text": [
      "Albums ordered in Descending order on AlbumID:\n",
      "   AlbumId                                              Title\n",
      "0      347  Koyaanisqatsi (Soundtrack from the Motion Pict...\n",
      "1      346                              Mozart: Chamber Music\n",
      "2      345                                Monteverdi: L'Orfeo\n",
      "3      344  Schubert: The Late String Quartets & String Qu...\n",
      "4      343                             Respighi:Pines of Rome\n",
      "5      342  Locatelli: Concertos for Violin, Strings and C...\n",
      "6      341  Great Recordings of the Century - Shubert: Sch...\n",
      "7      340        Liszt - 12 Études D'Execution Transcendante\n",
      "8      339  Great Recordings of the Century: Paganini's 24...\n",
      "9      338                        Nielsen: The Six Symphonies\n"
     ]
    }
   ],
   "source": [
    "# Query 8: Sorting Descending order (Ascending is default)\n",
    "query = \"SELECT AlbumId, Title FROM album ORDER BY AlbumId DESC LIMIT 10\"\n",
    "result = pd.read_sql(query, engine)\n",
    "print(\"Albums ordered in Descending order on AlbumID:\")\n",
    "print(result)"
   ]
  },
  {
   "cell_type": "code",
   "execution_count": 36,
   "metadata": {},
   "outputs": [
    {
     "name": "stdout",
     "output_type": "stream",
     "text": [
      "Filtered and ordered albums:\n",
      "    AlbumId                                              Title\n",
      "0       156                             ...And Justice For All\n",
      "1       257  20th Century Masters - The Millennium Collecti...\n",
      "2       296                      A Copland Celebration, Vol. I\n",
      "3       285                                 A Soprano Inspired\n",
      "4       139         A TempestadeTempestade Ou O Livro Dos Dias\n",
      "5       203                                            A-Sides\n",
      "6       160                                      Ace Of Spades\n",
      "7       232                                       Achtung Baby\n",
      "8       224                                           Acústico\n",
      "9       167                                       Acústico MTV\n",
      "10      307                   Adams, John: The Chairman Dances\n",
      "11      272  Adorate Deum: Gregorian Chant from the Proper ...\n",
      "12      233                    All That You Can't Leave Behind\n",
      "13      273                                  Allegri: Miserere\n",
      "14      248                                   Ao Vivo [IMPORT]\n",
      "15      254                                            Aquaman\n",
      "16      120                               Are You Experienced?\n",
      "17      319  Armada: Music from the Courts of England and S...\n",
      "18      168                                         Arquivo II\n",
      "19      169                    Arquivo Os Paralamas Do Sucesso\n"
     ]
    }
   ],
   "source": [
    "# COMBINING WHERE AND ORDER BY\n",
    "query = \"\"\"\n",
    "SELECT AlbumId, Title\n",
    "FROM Album\n",
    "WHERE AlbumId > 100\n",
    "ORDER BY Title\n",
    "LIMIT 20\n",
    "\"\"\"\n",
    "\n",
    "result = pd.read_sql(query, engine)\n",
    "print(\"Filtered and ordered albums:\")\n",
    "print(result)"
   ]
  }
 ],
 "metadata": {
  "kernelspec": {
   "display_name": ".venv",
   "language": "python",
   "name": "python3"
  },
  "language_info": {
   "codemirror_mode": {
    "name": "ipython",
    "version": 3
   },
   "file_extension": ".py",
   "mimetype": "text/x-python",
   "name": "python",
   "nbconvert_exporter": "python",
   "pygments_lexer": "ipython3",
   "version": "3.9.21"
  }
 },
 "nbformat": 4,
 "nbformat_minor": 2
}
