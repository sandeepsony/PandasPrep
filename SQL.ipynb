{
 "cells": [
  {
   "cell_type": "code",
   "execution_count": 4,
   "metadata": {},
   "outputs": [
    {
     "name": "stdout",
     "output_type": "stream",
     "text": [
      "Downloading Chinook database...\n",
      "Download complete!\n"
     ]
    }
   ],
   "source": [
    "# Run this in a Jupyter notebook in VS Code\n",
    "import urllib.request\n",
    "import os\n",
    "\n",
    "# Download the Chinook database if it doesn't exist\n",
    "if not os.path.exists('chinook.db'):\n",
    "    print(\"Downloading Chinook database...\")\n",
    "    url = \"https://github.com/lerocha/chinook-database/raw/master/ChinookDatabase/DataSources/Chinook_Sqlite.sqlite\"\n",
    "    urllib.request.urlretrieve(url, \"chinook.db\")\n",
    "    print(\"Download complete!\")\n",
    "else:\n",
    "    print(\"Chinook database already exists\")"
   ]
  }
 ],
 "metadata": {
  "kernelspec": {
   "display_name": ".venv",
   "language": "python",
   "name": "python3"
  },
  "language_info": {
   "codemirror_mode": {
    "name": "ipython",
    "version": 3
   },
   "file_extension": ".py",
   "mimetype": "text/x-python",
   "name": "python",
   "nbconvert_exporter": "python",
   "pygments_lexer": "ipython3",
   "version": "3.9.21"
  }
 },
 "nbformat": 4,
 "nbformat_minor": 2
}
