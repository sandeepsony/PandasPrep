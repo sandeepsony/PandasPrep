{
 "cells": [
  {
   "cell_type": "markdown",
   "metadata": {},
   "source": [
    "# Movies Sentiment Analysis - NLP Project 1"
   ]
  },
  {
   "cell_type": "markdown",
   "metadata": {},
   "source": [
    "## 1. Data loading"
   ]
  },
  {
   "cell_type": "code",
   "execution_count": null,
   "metadata": {},
   "outputs": [],
   "source": [
    "from datasets import load_dataset\n",
    "import re\n",
    "import spacy\n",
    "from sklearn.feature_extraction.text import TfidfVectorizer\n",
    "from sklearn.linear_model import LogisticRegression\n",
    "from sklearn.metrics import accuracy_score, classification_report\n",
    "\n",
    "# Load data\n",
    "dataset = load_dataset(\"imdb\")\n",
    "\n",
    "# Load spaCy\n",
    "nlp = spacy.load(\"en_core_web_sm\")\n",
    "\n",
    "# Clean text function\n",
    "def preprocess_text(text):\n",
    "    text = text.lower()\n",
    "    text = re.sub(r\"[^a-zA-Z\\s]\", \"\", text)\n",
    "    doc = nlp(text)\n",
    "    tokens = [token.text for token in doc if not token.is_stop]\n",
    "    return \" \".join(tokens)\n",
    "\n",
    "# Get balanced training and test data\n",
    "train_data = dataset[\"train\"].shuffle(seed=42).select(range(1000))  # 1000 mixed\n",
    "train_texts = train_data[\"text\"]\n",
    "train_labels = train_data[\"label\"]\n",
    "test_texts = dataset[\"test\"][\"text\"][:1000]\n",
    "test_labels = dataset[\"test\"][\"label\"][:1000]\n",
    "\n",
    "# Process text\n",
    "train_texts_processed = [preprocess_text(text) for text in train_texts]\n",
    "test_texts_processed = [preprocess_text(text) for text in test_texts]\n",
    "\n",
    "# Turn into numbers\n",
    "vectorizer = TfidfVectorizer(max_features=5000)\n",
    "X_train = vectorizer.fit_transform(train_texts_processed)\n",
    "X_test = vectorizer.transform(test_texts_processed)\n",
    "\n",
    "# Check labels\n",
    "print(\"Unique labels:\", set(train_labels))\n",
    "\n",
    "# Train model\n",
    "model = LogisticRegression(max_iter=1000)\n",
    "model.fit(X_train, train_labels)\n",
    "\n",
    "# Test model\n",
    "y_pred = model.predict(X_test)\n",
    "accuracy = accuracy_score(test_labels, y_pred)\n",
    "print(f\"Accuracy: {accuracy:.4f}\")\n",
    "print(classification_report(test_labels, y_pred, target_names=[\"Negative\", \"Positive\"]))\n",
    "\n",
    "# Sample test\n",
    "sample_text = dataset[\"test\"][\"text\"][0]\n",
    "sample_processed = preprocess_text(sample_text)\n",
    "sample_vector = vectorizer.transform([sample_processed])\n",
    "sample_pred = model.predict(sample_vector)[0]\n",
    "print(f\"Sample: {sample_text[:100]}...\")\n",
    "print(f\"Processed: {sample_processed[:100]}...\")\n",
    "print(f\"Prediction: {'Positive' if sample_pred == 1 else 'Negative'}\")"
   ]
  },
  {
   "cell_type": "markdown",
   "metadata": {},
   "source": [
    "# 2. Twitter US Airline Sentiment Analysis - NLP 2"
   ]
  },
  {
   "cell_type": "code",
   "execution_count": null,
   "metadata": {},
   "outputs": [],
   "source": [
    "import pandas as pd\n",
    "df = pd.read_csv('Tweets.csv')\n",
    "display(df)\n",
    "df.shape"
   ]
  },
  {
   "cell_type": "code",
   "execution_count": null,
   "metadata": {},
   "outputs": [],
   "source": [
    "df = df[['text', 'airline_sentiment']]\n",
    "display(df)"
   ]
  },
  {
   "cell_type": "code",
   "execution_count": null,
   "metadata": {},
   "outputs": [],
   "source": [
    "def preprocess_text(text):\n",
    "    text = text.lower() # lower the text\n",
    "    text = re.sub(r\"http\\S+|www\\S+|https\\S+\", \"\", text) # removes URLS\n",
    "    text = re.sub(r\"@\\w+\", \"\", text) # Remove mentions\n",
    "    text = re.sub(r\"#(\\w+)\", r\"\\1\", text) # Remove # and keeps the word (\\w+)\n",
    "    text = re.sub(r\"[^a-zA-Z\\s]\", \"\", text)\n",
    "    doc = nlp(text)\n",
    "    tokens = [token.text for token in doc if not token.is_stop]\n",
    "    return \" \".join(tokens)\n",
    "\n",
    "df['text_clean'] = df['text'].apply(preprocess_text)"
   ]
  },
  {
   "cell_type": "code",
   "execution_count": null,
   "metadata": {},
   "outputs": [],
   "source": [
    "df['text_clean'].head()"
   ]
  },
  {
   "cell_type": "code",
   "execution_count": null,
   "metadata": {},
   "outputs": [],
   "source": [
    "df['sentiment_num'] = df['airline_sentiment'].replace({'negative': 0, 'neutral': 1, 'positive':2})\n",
    "\n",
    "df[['text_clean', 'sentiment_num']].head()"
   ]
  },
  {
   "cell_type": "code",
   "execution_count": null,
   "metadata": {},
   "outputs": [],
   "source": [
    "vectorizer = TfidfVectorizer()\n",
    "X = vectorizer.fit_transform(df['text_clean'])\n",
    "y = df['sentiment_num']"
   ]
  },
  {
   "cell_type": "code",
   "execution_count": null,
   "metadata": {},
   "outputs": [],
   "source": [
    "from sklearn.model_selection import train_test_split\n",
    "from sklearn.linear_model import LogisticRegression\n",
    "from sklearn.metrics import accuracy_score, classification_report\n",
    "X_train, X_test, y_train, y_test = train_test_split(X,y,test_size=0.2, random_state=42)\n",
    "# Train model\n",
    "model = LogisticRegression(max_iter=1000)\n",
    "model.fit(X_train, y_train)\n",
    "\n",
    "# Test model\n",
    "y_pred = model.predict(X_test)\n",
    "accuracy = accuracy_score(y_test, y_pred)\n",
    "print(f\"Accuracy: {accuracy:.4f}\")\n",
    "print(classification_report(y_test, y_pred, target_names=[\"Negative\", \"Neutral\", \"Positive\"]))"
   ]
  },
  {
   "cell_type": "code",
   "execution_count": null,
   "metadata": {},
   "outputs": [],
   "source": [
    "from catboost import CatBoostClassifier \n",
    "from sklearn.metrics import accuracy_score, classification_report\n",
    "#Train model\n",
    "model = CatBoostClassifier(iterations = 1000, verbose = 100)\n",
    "model.fit(X_train, y_train)\n",
    "#Test Model\n",
    "y_pred = model.predict(X_test)\n",
    "accuracy = accuracy_score(y_test, y_pred)\n",
    "print(f\"Accuracy: {accuracy:.4f}\")\n",
    "print(classification_report(y_test, y_pred, target_names=[\"Negative\", \"Neutral\", \"Positive\"]))"
   ]
  },
  {
   "cell_type": "code",
   "execution_count": 22,
   "metadata": {},
   "outputs": [
    {
     "name": "stdout",
     "output_type": "stream",
     "text": [
      "Fitting 3 folds for each of 32 candidates, totalling 96 fits\n",
      "Best Parameters: {'colsample_bytree': 1.0, 'learning_rate': 0.1, 'max_depth': 6, 'min_child_weight': 1, 'n_estimators': 500, 'subsample': 0.8}\n",
      "Accuracy: 0.7807\n",
      "              precision    recall  f1-score   support\n",
      "\n",
      "    Negative       0.83      0.91      0.86      1889\n",
      "     Neutral       0.62      0.50      0.55       580\n",
      "    Positive       0.74      0.62      0.67       459\n",
      "\n",
      "    accuracy                           0.78      2928\n",
      "   macro avg       0.73      0.67      0.70      2928\n",
      "weighted avg       0.77      0.78      0.77      2928\n",
      "\n"
     ]
    }
   ],
   "source": [
    "from xgboost import XGBClassifier\n",
    "from sklearn.model_selection import GridSearchCV\n",
    "from sklearn.metrics import accuracy_score, classification_report\n",
    "\n",
    "# Define the Model\n",
    "model = XGBClassifier(objective='multi:softprob', eval_metric='mlogloss')\n",
    "\n",
    "#Set up parameter grid to test\n",
    "param_grid = {\n",
    "    'n_estimators': [500],  #Test 500 or 1000 trees\n",
    "    'learning_rate': [0.01, 0.1], #slower or moderate learning\n",
    "    'max_depth': [3,6],  #shallow or deeper trees\n",
    "    'min_child_weight': [1,3], #light or havier branches\n",
    "    'subsample': [0.8, 1.0], #use 80% or all data\n",
    "    'colsample_bytree': [0.8,1.0] # use 80% or all features\n",
    "}\n",
    "\n",
    "#Set up GridSearchCV\n",
    "grid_search = GridSearchCV(\n",
    "    estimator=model,\n",
    "    param_grid=param_grid,\n",
    "    cv=3, # 3-fold cross validation\n",
    "    scoring='accuracy', #optimize for accuracy\n",
    "    verbose=1, # show progress\n",
    "    n_jobs=-1 # use all CPU cores\n",
    ")\n",
    "\n",
    "# Fit it\n",
    "grid_search.fit(X_train,y_train)\n",
    "best_model = grid_search.best_estimator_\n",
    "print(\"Best Parameters:\", grid_search.best_params_)\n",
    "\n",
    "# Test it\n",
    "y_pred = best_model.predict(X_test)\n",
    "accuracy = accuracy_score(y_test, y_pred)\n",
    "print(f\"Accuracy: {accuracy:.4f}\")\n",
    "print(classification_report(y_test, y_pred, target_names=[\"Negative\", \"Neutral\", \"Positive\"]))"
   ]
  }
 ],
 "metadata": {
  "kernelspec": {
   "display_name": ".venv",
   "language": "python",
   "name": "python3"
  },
  "language_info": {
   "codemirror_mode": {
    "name": "ipython",
    "version": 3
   },
   "file_extension": ".py",
   "mimetype": "text/x-python",
   "name": "python",
   "nbconvert_exporter": "python",
   "pygments_lexer": "ipython3",
   "version": "3.9.21"
  }
 },
 "nbformat": 4,
 "nbformat_minor": 2
}
