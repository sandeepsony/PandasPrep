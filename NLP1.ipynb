{
 "cells": [
  {
   "cell_type": "markdown",
   "metadata": {},
   "source": [
    "# Sentiment Analysis -NLP Project 1"
   ]
  },
  {
   "cell_type": "markdown",
   "metadata": {},
   "source": [
    "## 1. Data loading"
   ]
  },
  {
   "cell_type": "code",
   "execution_count": 19,
   "metadata": {},
   "outputs": [
    {
     "name": "stdout",
     "output_type": "stream",
     "text": [
      "Unique labels: {0, 1}\n",
      "Accuracy: 0.7700\n",
      "              precision    recall  f1-score   support\n",
      "\n",
      "    Negative       1.00      0.77      0.87      1000\n",
      "    Positive       0.00      0.00      0.00         0\n",
      "\n",
      "    accuracy                           0.77      1000\n",
      "   macro avg       0.50      0.39      0.44      1000\n",
      "weighted avg       1.00      0.77      0.87      1000\n",
      "\n",
      "Sample: I love sci-fi and am willing to put up with a lot. Sci-fi movies/TV are usually underfunded, under-a...\n",
      "Processed: love scifi willing lot scifi moviestv usually underfunded underappreciated misunderstood tried like ...\n",
      "Prediction: Negative\n"
     ]
    },
    {
     "name": "stderr",
     "output_type": "stream",
     "text": [
      "/Users/sandeepsony/Projects/PandasPrep/.venv/lib/python3.9/site-packages/sklearn/metrics/_classification.py:1565: UndefinedMetricWarning: Recall is ill-defined and being set to 0.0 in labels with no true samples. Use `zero_division` parameter to control this behavior.\n",
      "  _warn_prf(average, modifier, f\"{metric.capitalize()} is\", len(result))\n",
      "/Users/sandeepsony/Projects/PandasPrep/.venv/lib/python3.9/site-packages/sklearn/metrics/_classification.py:1565: UndefinedMetricWarning: Recall is ill-defined and being set to 0.0 in labels with no true samples. Use `zero_division` parameter to control this behavior.\n",
      "  _warn_prf(average, modifier, f\"{metric.capitalize()} is\", len(result))\n",
      "/Users/sandeepsony/Projects/PandasPrep/.venv/lib/python3.9/site-packages/sklearn/metrics/_classification.py:1565: UndefinedMetricWarning: Recall is ill-defined and being set to 0.0 in labels with no true samples. Use `zero_division` parameter to control this behavior.\n",
      "  _warn_prf(average, modifier, f\"{metric.capitalize()} is\", len(result))\n"
     ]
    }
   ],
   "source": [
    "from datasets import load_dataset\n",
    "import re\n",
    "import spacy\n",
    "from sklearn.feature_extraction.text import TfidfVectorizer\n",
    "from sklearn.linear_model import LogisticRegression\n",
    "from sklearn.metrics import accuracy_score, classification_report\n",
    "\n",
    "# Load data\n",
    "dataset = load_dataset(\"imdb\")\n",
    "\n",
    "# Load spaCy\n",
    "nlp = spacy.load(\"en_core_web_sm\")\n",
    "\n",
    "# Clean text function\n",
    "def preprocess_text(text):\n",
    "    text = text.lower()\n",
    "    text = re.sub(r\"[^a-zA-Z\\s]\", \"\", text)\n",
    "    doc = nlp(text)\n",
    "    tokens = [token.text for token in doc if not token.is_stop]\n",
    "    return \" \".join(tokens)\n",
    "\n",
    "# Get balanced training and test data\n",
    "train_data = dataset[\"train\"].shuffle(seed=42).select(range(1000))  # 1000 mixed\n",
    "train_texts = train_data[\"text\"]\n",
    "train_labels = train_data[\"label\"]\n",
    "test_texts = dataset[\"test\"][\"text\"][:1000]\n",
    "test_labels = dataset[\"test\"][\"label\"][:1000]\n",
    "\n",
    "# Process text\n",
    "train_texts_processed = [preprocess_text(text) for text in train_texts]\n",
    "test_texts_processed = [preprocess_text(text) for text in test_texts]\n",
    "\n",
    "# Turn into numbers\n",
    "vectorizer = TfidfVectorizer(max_features=5000)\n",
    "X_train = vectorizer.fit_transform(train_texts_processed)\n",
    "X_test = vectorizer.transform(test_texts_processed)\n",
    "\n",
    "# Check labels\n",
    "print(\"Unique labels:\", set(train_labels))\n",
    "\n",
    "# Train model\n",
    "model = LogisticRegression(max_iter=1000)\n",
    "model.fit(X_train, train_labels)\n",
    "\n",
    "# Test model\n",
    "y_pred = model.predict(X_test)\n",
    "accuracy = accuracy_score(test_labels, y_pred)\n",
    "print(f\"Accuracy: {accuracy:.4f}\")\n",
    "print(classification_report(test_labels, y_pred, target_names=[\"Negative\", \"Positive\"]))\n",
    "\n",
    "# Sample test\n",
    "sample_text = dataset[\"test\"][\"text\"][0]\n",
    "sample_processed = preprocess_text(sample_text)\n",
    "sample_vector = vectorizer.transform([sample_processed])\n",
    "sample_pred = model.predict(sample_vector)[0]\n",
    "print(f\"Sample: {sample_text[:100]}...\")\n",
    "print(f\"Processed: {sample_processed[:100]}...\")\n",
    "print(f\"Prediction: {'Positive' if sample_pred == 1 else 'Negative'}\")"
   ]
  }
 ],
 "metadata": {
  "kernelspec": {
   "display_name": ".venv",
   "language": "python",
   "name": "python3"
  },
  "language_info": {
   "codemirror_mode": {
    "name": "ipython",
    "version": 3
   },
   "file_extension": ".py",
   "mimetype": "text/x-python",
   "name": "python",
   "nbconvert_exporter": "python",
   "pygments_lexer": "ipython3",
   "version": "3.9.21"
  }
 },
 "nbformat": 4,
 "nbformat_minor": 2
}
