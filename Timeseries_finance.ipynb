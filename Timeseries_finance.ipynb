{
 "cells": [
  {
   "cell_type": "markdown",
   "metadata": {},
   "source": [
    "# 1. Lets use YAHOO FINANCE API for data gathering"
   ]
  },
  {
   "cell_type": "code",
   "execution_count": null,
   "metadata": {},
   "outputs": [],
   "source": [
    "# Import necessary libraries\n",
    "import pandas as pd\n",
    "import numpy as np\n",
    "import matplotlib.pyplot as plt\n",
    "import seaborn as sns\n",
    "import yfinance as yf  # Yahoo Finance API\n",
    "from datetime import datetime, timedelta\n",
    "from sklearn.preprocessing import StandardScaler\n",
    "from sklearn.model_selection import train_test_split, TimeSeriesSplit\n",
    "from sklearn.metrics import mean_squared_error, r2_score, mean_absolute_error\n",
    "import xgboost as xgb"
   ]
  },
  {
   "cell_type": "code",
   "execution_count": null,
   "metadata": {},
   "outputs": [],
   "source": [
    "# Set the ticker symbol, start date, and end date\n",
    "ticker = \"AAPL\"  # Apple Inc.\n",
    "start_date = \"2018-01-01\"\n",
    "end_date = \"2022-12-31\"\n",
    "\n",
    "# Download the stock data\n",
    "data = yf.download(ticker, start=start_date, end=end_date)\n",
    "\n",
    "# Display information about the data\n",
    "print(\"Data shape:\", data.shape)\n",
    "print(\"\\nDate range:\")\n",
    "print(f\"Start: {data.index.min()}\")\n",
    "print(f\"End: {data.index.max()}\")\n",
    "print(\"\\nFirst few rows:\")\n",
    "print(data.head())"
   ]
  },
  {
   "cell_type": "code",
   "execution_count": null,
   "metadata": {},
   "outputs": [],
   "source": [
    "# Check for any missing values\n",
    "print(\"\\nMissing values in each columns:\")\n",
    "print(data.isnull().sum())\n",
    "#Basic Stats\n",
    "print(\"\\Basic Statistics:\")\n",
    "print(data.describe())"
   ]
  },
  {
   "cell_type": "code",
   "execution_count": null,
   "metadata": {},
   "outputs": [],
   "source": [
    "#Plor the closing price over time\n",
    "plt.figure(figsize=(15,7))\n",
    "plt.plot(data.index, data['Close'])\n",
    "plt.title(f'{ticker} Stock Price (Close)')\n",
    "plt.xlabel('Data')\n",
    "plt.ylabel('Price(USD)')\n",
    "plt.grid(True)\n",
    "plt.tight_layout()\n",
    "plt.show()"
   ]
  },
  {
   "cell_type": "markdown",
   "metadata": {},
   "source": [
    "# 2. Feature Engineering for Time-Series"
   ]
  },
  {
   "cell_type": "code",
   "execution_count": null,
   "metadata": {},
   "outputs": [],
   "source": [
    "# Create a copy of the original data\n",
    "stock_data = data.copy()\n",
    "\n",
    "#Extract Date features\n",
    "stock_data['Year'] = stock_data.index.year\n",
    "stock_data['Month'] = stock_data.index.month\n",
    "stock_data['Day'] = stock_data.index.day\n",
    "stock_data['DayOfWeek'] = stock_data.index.dayofweek\n",
    "\n",
    "#Calculate price-based features\n",
    "stock_data['PriceRange'] = stock_data['High']-stock_data['Low']\n",
    "stock_data['DailyReturn'] = stock_data['Close'].pct_change()\n",
    "\n",
    "# Create Lagged features (previous days' prices)\n",
    "for lag in range(1, 6):\n",
    "    stock_data[f'Close_Lag_{lag}'] = stock_data['Close'].shift(lag)\n",
    "    stock_data[f'Volume_Lag_{lag}'] = stock_data['Volume'].shift(lag)\n",
    "\n",
    "# Calculate moving average\n",
    "for window in [5, 10, 20, 50]: #common moving average windows\n",
    "    stock_data[f'MA_{window}'] = stock_data['Close'].rolling(window=window).mean()\n",
    "\n",
    "# Calculate technical indicators\n",
    "# Relative Strength Indec (RSI) -  simplfied version\n",
    "delta = stock_data['Close'].diff()\n",
    "gain = delta.where(delta>0,0)\n",
    "loss = -delta.where(delta<0,0)\n",
    "avg_gain = gain.rolling(window=14).mean()\n",
    "avg_loss = loss.rolling(window=14).mean()\n",
    "rs = avg_gain/avg_loss\n",
    "stock_data['RSI'] = 100-(100/(1+rs))\n",
    "\n",
    "# Moving Average Convergence Divergence (MACD)\n",
    "stock_data['EMA_12'] = stock_data['Close'].ewm(span=12).mean()\n",
    "stock_data['EMA_26'] = stock_data['Close'].ewm(span=26).mean()\n",
    "stock_data['MACD'] = stock_data['EMA_12'] - stock_data['EMA_26']\n",
    "stock_data['MACD_Signal'] = stock_data['MACD'].ewm(span=9).mean()\n",
    "\n",
    "# DROP rows with NAN values\n",
    "stock_data = stock_data.dropna()\n",
    "\n",
    "print(\"Features create. New Shape:\", stock_data.shape)\n",
    "print(\"\\nColumns:\", stock_data.columns.tolist())"
   ]
  },
  {
   "cell_type": "code",
   "execution_count": null,
   "metadata": {},
   "outputs": [],
   "source": [
    "# Visualize Key Features\n",
    "# Plot closing price with moving averages\n",
    "plt.figure(figsize=(15, 7))\n",
    "plt.plot(stock_data.index, stock_data['Close'], label='Close Price')\n",
    "plt.plot(stock_data.index, stock_data['MA_5'], label='5-Day MA', linestyle='-')\n",
    "plt.plot(stock_data.index, stock_data['MA_10'], label='10-Day MA', linestyle=':')\n",
    "plt.plot(stock_data.index, stock_data['MA_20'], label='20-Day MA', linestyle='--')\n",
    "plt.plot(stock_data.index, stock_data['MA_50'], label='50-Day MA', linestyle='-.')\n",
    "plt.title(f'{ticker} Stock Price with Moving Averages')\n",
    "plt.xlabel('Date')\n",
    "plt.ylabel('Price (USD)')\n",
    "plt.legend()\n",
    "plt.grid(True)\n",
    "plt.tight_layout()\n",
    "plt.show()"
   ]
  },
  {
   "cell_type": "code",
   "execution_count": null,
   "metadata": {},
   "outputs": [],
   "source": [
    "# Plot RSI\n",
    "plt.figure(figsize=(15, 5))\n",
    "plt.plot(stock_data.index, stock_data['RSI'])\n",
    "plt.axhline(y=70, color='r', linestyle='--', alpha=0.5)  # Overbought line\n",
    "plt.axhline(y=30, color='g', linestyle='--', alpha=0.5)  # Oversold line\n",
    "plt.title('Relative Strength Index (RSI)')\n",
    "plt.xlabel('Date')\n",
    "plt.ylabel('RSI')\n",
    "plt.grid(True)\n",
    "plt.tight_layout()\n",
    "plt.show()"
   ]
  },
  {
   "cell_type": "code",
   "execution_count": null,
   "metadata": {},
   "outputs": [],
   "source": [
    "# Plot MACD\n",
    "plt.figure(figsize=(15, 5))\n",
    "plt.plot(stock_data.index, stock_data['MACD'], label='MACD')\n",
    "plt.plot(stock_data.index, stock_data['MACD_Signal'], label='Signal Line')\n",
    "plt.title('Moving Average Convergence Divergence (MACD)')\n",
    "plt.xlabel('Date')\n",
    "plt.ylabel('MACD')\n",
    "plt.legend()\n",
    "plt.grid(True)\n",
    "plt.tight_layout()\n",
    "plt.show()"
   ]
  },
  {
   "cell_type": "code",
   "execution_count": null,
   "metadata": {},
   "outputs": [],
   "source": [
    "# Define prediction target: next day's closing price\n",
    "stock_data['Target'] = stock_data['Close'].shift(-1) # tomorrow's closing price\n",
    "# Drop specifically the last row which has no target\n",
    "stock_data = stock_data.iloc[:-1]\n",
    "# Then drop any remaining rows with NaN values from our feature engineering\n",
    "stock_data = stock_data.dropna()\n",
    "\n",
    "# Define features and target\n"
   ]
  }
 ],
 "metadata": {
  "kernelspec": {
   "display_name": ".venv",
   "language": "python",
   "name": "python3"
  },
  "language_info": {
   "codemirror_mode": {
    "name": "ipython",
    "version": 3
   },
   "file_extension": ".py",
   "mimetype": "text/x-python",
   "name": "python",
   "nbconvert_exporter": "python",
   "pygments_lexer": "ipython3",
   "version": "3.9.21"
  }
 },
 "nbformat": 4,
 "nbformat_minor": 2
}
