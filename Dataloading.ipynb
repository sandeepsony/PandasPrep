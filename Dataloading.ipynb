{
 "cells": [
  {
   "cell_type": "markdown",
   "metadata": {},
   "source": [
    "# 1. Landstemp Dataset from Data cleaning cookbook"
   ]
  },
  {
   "cell_type": "code",
   "execution_count": 4,
   "metadata": {},
   "outputs": [],
   "source": [
    "import pandas as pd\n",
    "landstemp = pd.read_csv('landtempssample.csv', \n",
    "                        names= ['stationid', 'year', 'month', 'avgtemp', 'latitutde', 'longitude',\n",
    "                                'elevation', 'station', 'countryid', 'country'],\n",
    "skiprows = 1,\n",
    "low_memory = False)\n",
    "\n",
    "landstemp['date'] = pd.to_datetime(landstemp['year'].astype(str)+ '-' + landstemp['month'].astype(str))\n"
   ]
  },
  {
   "cell_type": "code",
   "execution_count": 5,
   "metadata": {},
   "outputs": [
    {
     "data": {
      "text/html": [
       "<div>\n",
       "<style scoped>\n",
       "    .dataframe tbody tr th:only-of-type {\n",
       "        vertical-align: middle;\n",
       "    }\n",
       "\n",
       "    .dataframe tbody tr th {\n",
       "        vertical-align: top;\n",
       "    }\n",
       "\n",
       "    .dataframe thead th {\n",
       "        text-align: right;\n",
       "    }\n",
       "</style>\n",
       "<table border=\"1\" class=\"dataframe\">\n",
       "  <thead>\n",
       "    <tr style=\"text-align: right;\">\n",
       "      <th></th>\n",
       "      <th>stationid</th>\n",
       "      <th>year</th>\n",
       "      <th>month</th>\n",
       "      <th>avgtemp</th>\n",
       "      <th>latitutde</th>\n",
       "      <th>longitude</th>\n",
       "      <th>elevation</th>\n",
       "      <th>station</th>\n",
       "      <th>countryid</th>\n",
       "      <th>country</th>\n",
       "      <th>date</th>\n",
       "    </tr>\n",
       "  </thead>\n",
       "  <tbody>\n",
       "    <tr>\n",
       "      <th>0</th>\n",
       "      <td>USS0010K01S</td>\n",
       "      <td>2000</td>\n",
       "      <td>4</td>\n",
       "      <td>5.27</td>\n",
       "      <td>39.9000</td>\n",
       "      <td>-110.7500</td>\n",
       "      <td>2773.7</td>\n",
       "      <td>INDIAN_CANYON</td>\n",
       "      <td>US</td>\n",
       "      <td>United States</td>\n",
       "      <td>2000-04-01</td>\n",
       "    </tr>\n",
       "    <tr>\n",
       "      <th>1</th>\n",
       "      <td>CI000085406</td>\n",
       "      <td>1940</td>\n",
       "      <td>5</td>\n",
       "      <td>18.04</td>\n",
       "      <td>-18.3500</td>\n",
       "      <td>-70.3330</td>\n",
       "      <td>58.0</td>\n",
       "      <td>ARICA</td>\n",
       "      <td>CI</td>\n",
       "      <td>Chile</td>\n",
       "      <td>1940-05-01</td>\n",
       "    </tr>\n",
       "    <tr>\n",
       "      <th>2</th>\n",
       "      <td>USC00036376</td>\n",
       "      <td>2013</td>\n",
       "      <td>12</td>\n",
       "      <td>6.22</td>\n",
       "      <td>34.3703</td>\n",
       "      <td>-91.1242</td>\n",
       "      <td>61.0</td>\n",
       "      <td>SAINT_CHARLES</td>\n",
       "      <td>US</td>\n",
       "      <td>United States</td>\n",
       "      <td>2013-12-01</td>\n",
       "    </tr>\n",
       "    <tr>\n",
       "      <th>3</th>\n",
       "      <td>ASN00024002</td>\n",
       "      <td>1963</td>\n",
       "      <td>2</td>\n",
       "      <td>22.93</td>\n",
       "      <td>-34.2833</td>\n",
       "      <td>140.6000</td>\n",
       "      <td>65.5</td>\n",
       "      <td>BERRI_IRRIGATION</td>\n",
       "      <td>AS</td>\n",
       "      <td>Australia</td>\n",
       "      <td>1963-02-01</td>\n",
       "    </tr>\n",
       "    <tr>\n",
       "      <th>4</th>\n",
       "      <td>ASN00028007</td>\n",
       "      <td>2001</td>\n",
       "      <td>11</td>\n",
       "      <td>NaN</td>\n",
       "      <td>-14.7803</td>\n",
       "      <td>143.5036</td>\n",
       "      <td>79.4</td>\n",
       "      <td>MUSGRAVE</td>\n",
       "      <td>AS</td>\n",
       "      <td>Australia</td>\n",
       "      <td>2001-11-01</td>\n",
       "    </tr>\n",
       "    <tr>\n",
       "      <th>5</th>\n",
       "      <td>USW00024151</td>\n",
       "      <td>1991</td>\n",
       "      <td>4</td>\n",
       "      <td>5.59</td>\n",
       "      <td>42.1492</td>\n",
       "      <td>-112.2872</td>\n",
       "      <td>1362.5</td>\n",
       "      <td>MALAD_CITY</td>\n",
       "      <td>US</td>\n",
       "      <td>United States</td>\n",
       "      <td>1991-04-01</td>\n",
       "    </tr>\n",
       "    <tr>\n",
       "      <th>6</th>\n",
       "      <td>RSM00022641</td>\n",
       "      <td>1993</td>\n",
       "      <td>12</td>\n",
       "      <td>-10.17</td>\n",
       "      <td>63.9000</td>\n",
       "      <td>38.1167</td>\n",
       "      <td>13.0</td>\n",
       "      <td>ONEGA</td>\n",
       "      <td>RS</td>\n",
       "      <td>Russia</td>\n",
       "      <td>1993-12-01</td>\n",
       "    </tr>\n",
       "  </tbody>\n",
       "</table>\n",
       "</div>"
      ],
      "text/plain": [
       "     stationid  year  month  avgtemp  latitutde  longitude  elevation  \\\n",
       "0  USS0010K01S  2000      4     5.27    39.9000  -110.7500     2773.7   \n",
       "1  CI000085406  1940      5    18.04   -18.3500   -70.3330       58.0   \n",
       "2  USC00036376  2013     12     6.22    34.3703   -91.1242       61.0   \n",
       "3  ASN00024002  1963      2    22.93   -34.2833   140.6000       65.5   \n",
       "4  ASN00028007  2001     11      NaN   -14.7803   143.5036       79.4   \n",
       "5  USW00024151  1991      4     5.59    42.1492  -112.2872     1362.5   \n",
       "6  RSM00022641  1993     12   -10.17    63.9000    38.1167       13.0   \n",
       "\n",
       "            station countryid        country       date  \n",
       "0     INDIAN_CANYON        US  United States 2000-04-01  \n",
       "1             ARICA        CI          Chile 1940-05-01  \n",
       "2     SAINT_CHARLES        US  United States 2013-12-01  \n",
       "3  BERRI_IRRIGATION        AS      Australia 1963-02-01  \n",
       "4          MUSGRAVE        AS      Australia 2001-11-01  \n",
       "5        MALAD_CITY        US  United States 1991-04-01  \n",
       "6             ONEGA        RS         Russia 1993-12-01  "
      ]
     },
     "execution_count": 5,
     "metadata": {},
     "output_type": "execute_result"
    }
   ],
   "source": [
    "landstemp.head(7)"
   ]
  },
  {
   "cell_type": "code",
   "execution_count": 6,
   "metadata": {},
   "outputs": [
    {
     "data": {
      "text/plain": [
       "stationid            object\n",
       "year                  int64\n",
       "month                 int64\n",
       "avgtemp             float64\n",
       "latitutde           float64\n",
       "longitude           float64\n",
       "elevation           float64\n",
       "station              object\n",
       "countryid            object\n",
       "country              object\n",
       "date         datetime64[ns]\n",
       "dtype: object"
      ]
     },
     "execution_count": 6,
     "metadata": {},
     "output_type": "execute_result"
    }
   ],
   "source": [
    "landstemp.dtypes"
   ]
  },
  {
   "cell_type": "code",
   "execution_count": 7,
   "metadata": {},
   "outputs": [
    {
     "data": {
      "text/plain": [
       "(100000, 11)"
      ]
     },
     "execution_count": 7,
     "metadata": {},
     "output_type": "execute_result"
    }
   ],
   "source": [
    "landstemp.shape"
   ]
  },
  {
   "cell_type": "code",
   "execution_count": 8,
   "metadata": {},
   "outputs": [
    {
     "data": {
      "text/plain": [
       "stationid        0\n",
       "year             0\n",
       "month            0\n",
       "avgtemp      14446\n",
       "latitutde        0\n",
       "longitude        0\n",
       "elevation        0\n",
       "station          0\n",
       "countryid        0\n",
       "country          5\n",
       "date             0\n",
       "dtype: int64"
      ]
     },
     "execution_count": 8,
     "metadata": {},
     "output_type": "execute_result"
    }
   ],
   "source": [
    "landstemp.isnull().sum()"
   ]
  },
  {
   "cell_type": "code",
   "execution_count": 9,
   "metadata": {},
   "outputs": [
    {
     "data": {
      "text/plain": [
       "(85554, 11)"
      ]
     },
     "execution_count": 9,
     "metadata": {},
     "output_type": "execute_result"
    }
   ],
   "source": [
    "landstemp.dropna(subset=['avgtemp'], inplace=True)\n",
    "landstemp.shape"
   ]
  }
 ],
 "metadata": {
  "kernelspec": {
   "display_name": ".venv",
   "language": "python",
   "name": "python3"
  },
  "language_info": {
   "codemirror_mode": {
    "name": "ipython",
    "version": 3
   },
   "file_extension": ".py",
   "mimetype": "text/x-python",
   "name": "python",
   "nbconvert_exporter": "python",
   "pygments_lexer": "ipython3",
   "version": "3.9.21"
  }
 },
 "nbformat": 4,
 "nbformat_minor": 2
}
