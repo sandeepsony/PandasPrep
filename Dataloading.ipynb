{
 "cells": [
  {
   "cell_type": "markdown",
   "metadata": {},
   "source": [
    "# 1. Landstemp Dataset from Data cleaning cookbook"
   ]
  },
  {
   "cell_type": "code",
   "execution_count": null,
   "metadata": {},
   "outputs": [],
   "source": [
    "import pandas as pd\n",
    "landstemp = pd.read_csv('landtempssample.csv', \n",
    "                        names= ['stationid', 'year', 'month', 'avgtemp', 'latitutde', 'longitude',\n",
    "                                'elevation', 'station', 'countryid', 'country'],\n",
    "skiprows = 1,\n",
    "low_memory = False)\n",
    "\n",
    "landstemp['date'] = pd.to_datetime(landstemp['year'].astype(str)+ '-' + landstemp['month'].astype(str))\n"
   ]
  },
  {
   "cell_type": "code",
   "execution_count": null,
   "metadata": {},
   "outputs": [],
   "source": [
    "landstemp.head(7)"
   ]
  },
  {
   "cell_type": "code",
   "execution_count": null,
   "metadata": {},
   "outputs": [],
   "source": [
    "landstemp.dtypes"
   ]
  },
  {
   "cell_type": "code",
   "execution_count": null,
   "metadata": {},
   "outputs": [],
   "source": [
    "landstemp.shape"
   ]
  },
  {
   "cell_type": "code",
   "execution_count": null,
   "metadata": {},
   "outputs": [],
   "source": [
    "landstemp.isnull().sum()"
   ]
  },
  {
   "cell_type": "code",
   "execution_count": null,
   "metadata": {},
   "outputs": [],
   "source": [
    "landstemp.dropna(subset=['avgtemp'], inplace=True)\n",
    "landstemp.shape"
   ]
  },
  {
   "cell_type": "markdown",
   "metadata": {},
   "source": [
    "# 2. Loading Excel file"
   ]
  },
  {
   "cell_type": "code",
   "execution_count": null,
   "metadata": {},
   "outputs": [],
   "source": [
    "import pandas as pd\n",
    "percapitagdp = pd.read_excel(\"GDPpercapita22b.xlsx\",\n",
    "                             sheet_name=\"OECD.Stat export\",\n",
    "                             skiprows=4,\n",
    "                             skipfooter=1,\n",
    "                             usecols=\"A,C:W\")\n",
    "\n",
    "percapitagdp.head()\n"
   ]
  },
  {
   "cell_type": "code",
   "execution_count": null,
   "metadata": {},
   "outputs": [],
   "source": [
    "percapitagdp.shape\n",
    "percapitagdp.info()"
   ]
  },
  {
   "cell_type": "code",
   "execution_count": null,
   "metadata": {},
   "outputs": [],
   "source": [
    "percapitagdp.rename(columns={'Year' : 'metro'}, inplace=True)\n",
    "percapitagdp.metro.str.startswith(' ').any()\n"
   ]
  },
  {
   "cell_type": "code",
   "execution_count": null,
   "metadata": {},
   "outputs": [],
   "source": [
    "percapitagdp.metro.str.endswith(' ').any()\n"
   ]
  },
  {
   "cell_type": "code",
   "execution_count": null,
   "metadata": {},
   "outputs": [],
   "source": [
    "percapitagdp.metro = percapitagdp.metro.str.strip()"
   ]
  },
  {
   "cell_type": "code",
   "execution_count": null,
   "metadata": {},
   "outputs": [],
   "source": [
    "percapitagdp.metro.str.startswith(' ').any()"
   ]
  },
  {
   "cell_type": "code",
   "execution_count": null,
   "metadata": {},
   "outputs": [],
   "source": [
    "percapitagdp.dtypes"
   ]
  },
  {
   "cell_type": "code",
   "execution_count": null,
   "metadata": {},
   "outputs": [],
   "source": [
    "for col in percapitagdp.columns[1:]:\n",
    "    percapitagdp[col] = pd.to_numeric(percapitagdp[col],\n",
    "    errors = 'coerce')\n",
    "    percapitagdp.rename(columns={col: 'pcGDP' + col},\n",
    "                        inplace=True)\n",
    "    \n",
    "\n",
    "percapitagdp.head()\n"
   ]
  },
  {
   "cell_type": "code",
   "execution_count": null,
   "metadata": {},
   "outputs": [],
   "source": [
    "percapitagdp.dtypes"
   ]
  },
  {
   "cell_type": "code",
   "execution_count": null,
   "metadata": {},
   "outputs": [],
   "source": [
    "percapitagdp.describe()"
   ]
  },
  {
   "cell_type": "code",
   "execution_count": 49,
   "metadata": {},
   "outputs": [
    {
     "data": {
      "text/plain": [
       "(692, 22)"
      ]
     },
     "execution_count": 49,
     "metadata": {},
     "output_type": "execute_result"
    }
   ],
   "source": [
    "percapitagdp.dropna(subset=percapitagdp.columns[1:], how=\"all\", inplace=True)\n",
    "percapitagdp.shape"
   ]
  }
 ],
 "metadata": {
  "kernelspec": {
   "display_name": ".venv",
   "language": "python",
   "name": "python3"
  },
  "language_info": {
   "codemirror_mode": {
    "name": "ipython",
    "version": 3
   },
   "file_extension": ".py",
   "mimetype": "text/x-python",
   "name": "python",
   "nbconvert_exporter": "python",
   "pygments_lexer": "ipython3",
   "version": "3.9.21"
  }
 },
 "nbformat": 4,
 "nbformat_minor": 2
}
